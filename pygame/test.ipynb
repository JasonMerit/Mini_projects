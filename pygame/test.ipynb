{
 "cells": [
  {
   "cell_type": "code",
   "execution_count": 17,
   "metadata": {},
   "outputs": [],
   "source": [
    "import numpy as np\n",
    "A = [[1, 1, 2, 2], [2, 1, 1, 2], [2, 2, 1, 1], [1, 2, 2, 1]]\n",
    "B = np.array([[1, 1, 2, 2], [2, 2, 1, 1], [2, 2, 1, 1], [1, 2, 2, 1]], dtype=np.int8)"
   ]
  },
  {
   "cell_type": "code",
   "execution_count": 23,
   "metadata": {},
   "outputs": [
    {
     "data": {
      "text/plain": [
       "True"
      ]
     },
     "execution_count": 23,
     "metadata": {},
     "output_type": "execute_result"
    }
   ],
   "source": [
    "0 == False"
   ]
  },
  {
   "cell_type": "code",
   "execution_count": 20,
   "metadata": {},
   "outputs": [
    {
     "name": "stdout",
     "output_type": "stream",
     "text": [
      "[1 0]\n",
      "[[1 1 2 2]\n",
      " [2 1 1 2]\n",
      " [2 2 1 1]\n",
      " [1 2 2 1]]\n",
      "[[1 1 2 2]\n",
      " [2 2 1 1]\n",
      " [2 2 1 1]\n",
      " [1 2 2 1]]\n"
     ]
    }
   ],
   "source": [
    "# SAVE AND LOAD configirations\n",
    "\n",
    "# save = {str(i) : a for i, a in enumerate(configs)}  # Give them names \n",
    "configs = [[1, 0], A, B]  # Or just use a list\n",
    "np.savez(\"duko_configs.npz\", *configs)  # Save them\n",
    "\n",
    "loaded = np.load(\"duko_configs.npz\")\n",
    "configs = loaded.values()\n",
    "for kek in configs:\n",
    "    print(kek)"
   ]
  },
  {
   "cell_type": "code",
   "execution_count": 6,
   "metadata": {},
   "outputs": [
    {
     "name": "stdout",
     "output_type": "stream",
     "text": [
      "[[ 9 11  9  7]\n",
      " [ 9 10  9  8]\n",
      " [ 9 10  9  8]\n",
      " [10 11  8  7]]\n"
     ]
    }
   ],
   "source": [
    "# load the config from disk\n",
    "config = np.loadtxt(\"duko_config.txt\", dtype=np.int8)"
   ]
  },
  {
   "cell_type": "code",
   "execution_count": 54,
   "metadata": {},
   "outputs": [
    {
     "name": "stdout",
     "output_type": "stream",
     "text": [
      "False\n",
      "False\n",
      "False\n",
      "False\n",
      "False\n",
      "False\n",
      "True\n",
      "False\n",
      "False\n",
      "False\n",
      "False\n",
      "False\n",
      "[[1 1 2 2]\n",
      " [2 2 1 1]\n",
      " [2 2 1 1]\n",
      " [1 2 2 1]]\n"
     ]
    }
   ],
   "source": [
    "dim = A.shape[0]\n",
    "for i in range(dim):\n",
    "    for j in range(i, dim):\n",
    "        if i != j:\n",
    "            # print(i, j)\n",
    "            # print(A[i])\n",
    "            # print(A[j])\n",
    "            # print((A[i] == A[j]))\n",
    "            print((A[i] == A[j]).all())\n",
    "\n",
    "            # print()\n",
    "            print((A[:, i] == A[:, j]).all())\n",
    "            # if np.all(A[i] == A[j]) \\\n",
    "            # or np.all(A[:, i] == A[:, j]):\n",
    "            #     print(\"False\")\n",
    "print(A)"
   ]
  },
  {
   "cell_type": "code",
   "execution_count": 15,
   "metadata": {},
   "outputs": [
    {
     "data": {
      "text/plain": [
       "[(0, 0, 1),\n",
       " (0, 0, 2),\n",
       " (0, 1, 1),\n",
       " (0, 1, 2),\n",
       " (0, 2, 1),\n",
       " (0, 2, 2),\n",
       " (0, 3, 1),\n",
       " (0, 3, 2),\n",
       " (1, 0, 1),\n",
       " (1, 0, 2),\n",
       " (1, 1, 1),\n",
       " (1, 1, 2),\n",
       " (1, 2, 1),\n",
       " (1, 2, 2),\n",
       " (1, 3, 1),\n",
       " (1, 3, 2),\n",
       " (2, 0, 1),\n",
       " (2, 0, 2),\n",
       " (2, 1, 1),\n",
       " (2, 1, 2),\n",
       " (2, 2, 1),\n",
       " (2, 2, 2),\n",
       " (2, 3, 1),\n",
       " (2, 3, 2),\n",
       " (3, 0, 1),\n",
       " (3, 0, 2),\n",
       " (3, 1, 1),\n",
       " (3, 1, 2),\n",
       " (3, 2, 1),\n",
       " (3, 2, 2),\n",
       " (3, 3, 1),\n",
       " (3, 3, 2)]"
      ]
     },
     "execution_count": 15,
     "metadata": {},
     "output_type": "execute_result"
    }
   ],
   "source": [
    "dim = 4\n",
    "[(x, y, a) for x in range(dim) for y in range(dim) for a in range(1, 3)]"
   ]
  },
  {
   "cell_type": "code",
   "execution_count": 13,
   "metadata": {},
   "outputs": [
    {
     "name": "stdout",
     "output_type": "stream",
     "text": [
      "False\n"
     ]
    }
   ],
   "source": [
    "A = np.array([[1, 1, 0, 1], [1, 1, 0, 1], [1, 1, 0, 1], [1, 1, 0, 1]], dtype=np.int8)\n",
    "goal = np.ones(4, dtype=np.int8) * 3\n",
    "row_sum = np.sum(A, axis=1)\n",
    "# CHeck if all entrees in row_sum are equal to goal\n",
    "print((row_sum == goal).all())"
   ]
  }
 ],
 "metadata": {
  "kernelspec": {
   "display_name": "Python 3",
   "language": "python",
   "name": "python3"
  },
  "language_info": {
   "codemirror_mode": {
    "name": "ipython",
    "version": 3
   },
   "file_extension": ".py",
   "mimetype": "text/x-python",
   "name": "python",
   "nbconvert_exporter": "python",
   "pygments_lexer": "ipython3",
   "version": "3.10.1"
  },
  "orig_nbformat": 4
 },
 "nbformat": 4,
 "nbformat_minor": 2
}
