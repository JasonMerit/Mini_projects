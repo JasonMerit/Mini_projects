{
 "cells": [
  {
   "cell_type": "code",
   "execution_count": 97,
   "metadata": {},
   "outputs": [
    {
     "data": {
      "text/plain": [
       "[[0, 0, 0, 0], [0, 1, 0, 1], [0, 0, 2, 0], [0, 1, 0, 0]]"
      ]
     },
     "execution_count": 97,
     "metadata": {},
     "output_type": "execute_result"
    }
   ],
   "source": [
    "import numpy as np\n",
    "A = [[1, 1, 2, 2], [2, 1, 1, 2], [2, 2, 1, 1], [1, 2, 2, 1]]\n",
    "B = np.array([[1, 1, 2, 2], [2, 2, 1, 1], [2, 2, 1, 1], [1, 2, 2, 1]], dtype=np.int8)\n",
    "C = np.array([\n",
    "            [0, 0, 0, 0], \n",
    "            [0, 1, 0, 1], \n",
    "            [0, 0, 2, 0], \n",
    "            [0, 1, 0, 0]], dtype=np.int8)\n",
    "C.tolist()"
   ]
  },
  {
   "attachments": {},
   "cell_type": "markdown",
   "metadata": {},
   "source": [
    "## Solver"
   ]
  },
  {
   "cell_type": "code",
   "execution_count": 24,
   "metadata": {},
   "outputs": [],
   "source": [
    "from duko import Duko\n",
    "import numpy as np\n",
    "duko = Duko(render=False)\n",
    "board = duko.board.astype(np.int8)"
   ]
  },
  {
   "cell_type": "code",
   "execution_count": 95,
   "metadata": {},
   "outputs": [
    {
     "data": {
      "text/plain": [
       "array([[1., 2., 1., 2.],\n",
       "       [2., 1., 2., 1.],\n",
       "       [1., 2., 2., 1.],\n",
       "       [2., 1., 1., 2.]])"
      ]
     },
     "execution_count": 95,
     "metadata": {},
     "output_type": "execute_result"
    }
   ],
   "source": [
    "# one hot encode the board\n",
    "# ONE, TWO = \n",
    "# find indices of 1s and 2s\n",
    "BLUE, RED = np.zeros((2, 4, 4))\n",
    "BLUE[np.where(board == 1)] = RED[np.where(board == 2)] = 1\n",
    "DIGITS = set(range(len(board)))\n",
    "done_cols, done_rows = set(), set()\n",
    "\n",
    "def equal_count():\n",
    "    \"\"\"Checks for equal count of 1s and 2s in rows and cols.\n",
    "    Returns True if any changes were made.\"\"\"\n",
    "    changed = False\n",
    "\n",
    "    BLUE_cols = np.sum(BLUE, axis=1)  # Summing over cols [0., 2., 0., 1.]\n",
    "    cols = set(np.where(BLUE_cols == 2)[0]) - done_cols # index of filled # {1}\n",
    "    for c in cols:\n",
    "        done_cols.add(c)\n",
    "\n",
    "        rows = np.where(BLUE[:, c] == 1)[0]  # [1, 3]\n",
    "        left_over = DIGITS - set(rows) # {0, 2}\n",
    "        RED[tuple(left_over), c] = 1\n",
    "        changed = True\n",
    "\n",
    "    \n",
    "    BLUE_rows = np.sum(BLUE, axis=0)\n",
    "    rows = set(np.where(BLUE_rows == 2)[0]) - done_rows\n",
    "    for r in rows:\n",
    "        done_rows.add(r)\n",
    "\n",
    "        cols = np.where(BLUE[r, :] == 1)[0] \n",
    "        left_over = DIGITS - set(cols)\n",
    "        RED[r, tuple(left_over)] = 1\n",
    "        changed = True\n",
    "    \n",
    "    RED_cols = np.sum(RED, axis=0)\n",
    "    cols = set(np.where(RED_cols == 2)[0]) - done_cols # index of filled # {1}\n",
    "    for c in cols:\n",
    "        done_cols.add(c)\n",
    "\n",
    "        rows = np.where(RED[:, c] == 1)[0]  # [1, 3]\n",
    "        left_over = DIGITS - set(rows) # {0, 2}\n",
    "        BLUE[tuple(left_over), c] = 1\n",
    "        changed = True\n",
    "\n",
    "    RED_rows = np.sum(RED, axis=1)\n",
    "    rows = set(np.where(RED_rows == 2)[0]) - done_rows\n",
    "    for r in rows:\n",
    "        done_rows.add(r)\n",
    "\n",
    "        cols = np.where(RED[r, :] == 1)[0] \n",
    "        left_over = DIGITS - set(cols)\n",
    "        BLUE[r, tuple(left_over)] = 1\n",
    "        changed = True\n",
    "\n",
    "    return changed\n",
    "\n",
    "\n",
    "\n",
    "while equal_count():\n",
    "    pass\n",
    "BLUE + RED*2\n",
    "\n"
   ]
  },
  {
   "cell_type": "code",
   "execution_count": 86,
   "metadata": {},
   "outputs": [
    {
     "data": {
      "text/plain": [
       "array([[0., 0., 0., 0.],\n",
       "       [0., 1., 0., 1.],\n",
       "       [0., 0., 0., 0.],\n",
       "       [0., 1., 0., 0.]])"
      ]
     },
     "execution_count": 86,
     "metadata": {},
     "output_type": "execute_result"
    }
   ],
   "source": [
    "BLUE\n",
    "# blue_rows\n",
    "# np.where(board == 1)"
   ]
  },
  {
   "cell_type": "code",
   "execution_count": 20,
   "metadata": {},
   "outputs": [
    {
     "name": "stdout",
     "output_type": "stream",
     "text": [
      "[1 0]\n",
      "[[1 1 2 2]\n",
      " [2 1 1 2]\n",
      " [2 2 1 1]\n",
      " [1 2 2 1]]\n",
      "[[1 1 2 2]\n",
      " [2 2 1 1]\n",
      " [2 2 1 1]\n",
      " [1 2 2 1]]\n"
     ]
    }
   ],
   "source": [
    "# SAVE AND LOAD configirations\n",
    "\n",
    "# save = {str(i) : a for i, a in enumerate(configs)}  # Give them names \n",
    "configs = [[1, 0], A, B]  # Or just use a list\n",
    "np.savez(\"duko_configs.npz\", *configs)  # Save them\n",
    "\n",
    "loaded = np.load(\"duko_configs.npz\")\n",
    "configs = loaded.values()\n",
    "for kek in configs:\n",
    "    print(kek)"
   ]
  },
  {
   "cell_type": "code",
   "execution_count": 6,
   "metadata": {},
   "outputs": [
    {
     "name": "stdout",
     "output_type": "stream",
     "text": [
      "[[ 9 11  9  7]\n",
      " [ 9 10  9  8]\n",
      " [ 9 10  9  8]\n",
      " [10 11  8  7]]\n"
     ]
    }
   ],
   "source": [
    "# load the config from disk\n",
    "config = np.loadtxt(\"duko_config.txt\", dtype=np.int8)"
   ]
  },
  {
   "cell_type": "code",
   "execution_count": 54,
   "metadata": {},
   "outputs": [
    {
     "name": "stdout",
     "output_type": "stream",
     "text": [
      "False\n",
      "False\n",
      "False\n",
      "False\n",
      "False\n",
      "False\n",
      "True\n",
      "False\n",
      "False\n",
      "False\n",
      "False\n",
      "False\n",
      "[[1 1 2 2]\n",
      " [2 2 1 1]\n",
      " [2 2 1 1]\n",
      " [1 2 2 1]]\n"
     ]
    }
   ],
   "source": [
    "dim = A.shape[0]\n",
    "for i in range(dim):\n",
    "    for j in range(i, dim):\n",
    "        if i != j:\n",
    "            # print(i, j)\n",
    "            # print(A[i])\n",
    "            # print(A[j])\n",
    "            # print((A[i] == A[j]))\n",
    "            print((A[i] == A[j]).all())\n",
    "\n",
    "            # print()\n",
    "            print((A[:, i] == A[:, j]).all())\n",
    "            # if np.all(A[i] == A[j]) \\\n",
    "            # or np.all(A[:, i] == A[:, j]):\n",
    "            #     print(\"False\")\n",
    "print(A)"
   ]
  },
  {
   "cell_type": "code",
   "execution_count": 15,
   "metadata": {},
   "outputs": [
    {
     "data": {
      "text/plain": [
       "[(0, 0, 1),\n",
       " (0, 0, 2),\n",
       " (0, 1, 1),\n",
       " (0, 1, 2),\n",
       " (0, 2, 1),\n",
       " (0, 2, 2),\n",
       " (0, 3, 1),\n",
       " (0, 3, 2),\n",
       " (1, 0, 1),\n",
       " (1, 0, 2),\n",
       " (1, 1, 1),\n",
       " (1, 1, 2),\n",
       " (1, 2, 1),\n",
       " (1, 2, 2),\n",
       " (1, 3, 1),\n",
       " (1, 3, 2),\n",
       " (2, 0, 1),\n",
       " (2, 0, 2),\n",
       " (2, 1, 1),\n",
       " (2, 1, 2),\n",
       " (2, 2, 1),\n",
       " (2, 2, 2),\n",
       " (2, 3, 1),\n",
       " (2, 3, 2),\n",
       " (3, 0, 1),\n",
       " (3, 0, 2),\n",
       " (3, 1, 1),\n",
       " (3, 1, 2),\n",
       " (3, 2, 1),\n",
       " (3, 2, 2),\n",
       " (3, 3, 1),\n",
       " (3, 3, 2)]"
      ]
     },
     "execution_count": 15,
     "metadata": {},
     "output_type": "execute_result"
    }
   ],
   "source": [
    "dim = 4\n",
    "[(x, y, a) for x in range(dim) for y in range(dim) for a in range(1, 3)]"
   ]
  },
  {
   "cell_type": "code",
   "execution_count": 13,
   "metadata": {},
   "outputs": [
    {
     "name": "stdout",
     "output_type": "stream",
     "text": [
      "False\n"
     ]
    }
   ],
   "source": [
    "A = np.array([[1, 1, 0, 1], [1, 1, 0, 1], [1, 1, 0, 1], [1, 1, 0, 1]], dtype=np.int8)\n",
    "goal = np.ones(4, dtype=np.int8) * 3\n",
    "row_sum = np.sum(A, axis=1)\n",
    "# CHeck if all entrees in row_sum are equal to goal\n",
    "print((row_sum == goal).all())"
   ]
  }
 ],
 "metadata": {
  "kernelspec": {
   "display_name": "Python 3",
   "language": "python",
   "name": "python3"
  },
  "language_info": {
   "codemirror_mode": {
    "name": "ipython",
    "version": 3
   },
   "file_extension": ".py",
   "mimetype": "text/x-python",
   "name": "python",
   "nbconvert_exporter": "python",
   "pygments_lexer": "ipython3",
   "version": "3.10.8"
  },
  "orig_nbformat": 4
 },
 "nbformat": 4,
 "nbformat_minor": 2
}
