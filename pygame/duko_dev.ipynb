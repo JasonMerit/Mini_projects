{
 "cells": [
  {
   "cell_type": "code",
   "execution_count": 1,
   "metadata": {},
   "outputs": [],
   "source": [
    "import numpy as np\n",
    "A = [[1, 1, 2, 2], [2, 1, 1, 2], [2, 2, 1, 1], [1, 2, 2, 1]]\n",
    "B = np.array([[1, 1, 2, 2], [2, 2, 1, 1], [2, 2, 1, 1], [1, 2, 2, 1]], dtype=np.int8)\n",
    "C = np.array([\n",
    "            [0, 0, 0, 0], \n",
    "            [0, 1, 0, 1], \n",
    "            [0, 0, 2, 0], \n",
    "            [0, 1, 0, 0]], dtype=np.int8)\n",
    "D = np.array([\n",
    "            [1, 1, 0, 0], \n",
    "            [0, 1, 1, 0], \n",
    "            [0, 0, 1, 1], \n",
    "            [1, 0, 0, 1]], dtype=np.int8)\n",
    "E = np.array([  # Unique \n",
    "            [1, 2, 2, 1], \n",
    "            [2, 1, 1, 2], \n",
    "            [2, 1, 0, 0], \n",
    "            [1, 2, 0, 0]], dtype=np.int8)\n",
    "\n",
    "GRID = C.copy()\n",
    "N = len(GRID)\n",
    "N_2 = N // 2"
   ]
  },
  {
   "attachments": {},
   "cell_type": "markdown",
   "metadata": {},
   "source": [
    "## Solver"
   ]
  },
  {
   "cell_type": "code",
   "execution_count": 2,
   "metadata": {
    "tags": [
     "hide-input"
    ]
   },
   "outputs": [
    {
     "data": {
      "text/plain": [
       "array([[1, 2, 1, 2],\n",
       "       [2, 1, 2, 1],\n",
       "       [1, 2, 2, 1],\n",
       "       [2, 1, 1, 2]], dtype=int8)"
      ]
     },
     "execution_count": 2,
     "metadata": {},
     "output_type": "execute_result"
    }
   ],
   "source": [
    "DIGITS = set(range(N))\n",
    "FLIP = np.array([0, 2, 1])\n",
    "\n",
    "def equal_count(grid, done: set):\n",
    "    \"\"\"Checks for equal count of 1s and 2s.\n",
    "    param grid: 2D array\n",
    "    param done: set of rows or cols that are already done\n",
    "    Returns True if any changes are made.\"\"\"\n",
    "    changed = False\n",
    "\n",
    "    for r in (DIGITS - done):\n",
    "        row = grid[r]\n",
    "        if np.sum(row == 1) == N // 2:\n",
    "            grid[r, np.where(row == 0)[0]] = 2\n",
    "            done.add(r)\n",
    "            changed = True\n",
    "\n",
    "        if np.sum(row == 2) == N // 2:\n",
    "            grid[r, np.where(row == 0)[0]] = 1\n",
    "            done.add(r)\n",
    "            changed = True\n",
    "\n",
    "    return changed\n",
    "\n",
    "def subsequent(grid, done: set):\n",
    "    \"\"\"Checks for subsequent 1s and 2s in rows and cols.\n",
    "    Returns True if any changes are made.\"\"\"\n",
    "    changed = False\n",
    "\n",
    "    for r, row in enumerate(grid):\n",
    "        for i in range(len(row)-1):\n",
    "            if row[i] == row[i+1] != 0:\n",
    "                if i < N-2 and not grid[r, i+2]: # if next is empty\n",
    "                    grid[r, i+2] = FLIP[row[i]]\n",
    "                    changed = True\n",
    "\n",
    "                if i > 0 and not grid[r, i-1]: # if prev is empty\n",
    "                    grid[r, i-1] = FLIP[row[i]]\n",
    "                    changed = True\n",
    "\n",
    "    if changed:\n",
    "        done.update(np.where(np.all(grid != 0, axis=1))[0])\n",
    "\n",
    "    return changed\n",
    "\n",
    "def unique(grid, done: set):\n",
    "    \"\"\"Checks for unique rows and cols.\n",
    "    Returns True if any changes are made.\"\"\"\n",
    "    changed = False\n",
    "\n",
    "    # Find rows containing exacty two gaps\n",
    "    gapped_rows_indx = np.where(np.sum(grid == 0, axis=1) == 2)[0]  # [2 3]\n",
    "    candidates = grid[gapped_rows_indx]  # [[2 1 0 0], [1 0 0 2]]\n",
    "    keks = grid[list(done)]  # [[2 1 1 2]]\n",
    "\n",
    "    # Compare each candidate with other complete rows\n",
    "    for i, candy in enumerate(candidates):\n",
    "        # Find index of colored tiles\n",
    "        idx = np.where(candy != 0)[0]  # [0 1]\n",
    "        for kek in keks:\n",
    "            if np.array_equal(kek[idx], candy[idx]):\n",
    "                # Replace the two gaps with complementary colors\n",
    "                gaps = np.where(candy == 0)[0]  # [2, 3]\n",
    "                grid[gapped_rows_indx[i], gaps] = FLIP[kek[gaps]]\n",
    "\n",
    "                done.add(gapped_rows_indx[i])\n",
    "                changed = True\n",
    "    \n",
    "    return changed\n",
    "\n",
    "def solve(grid):\n",
    "    done_rows, done_cols = set(), set()\n",
    "    while True:\n",
    "        if equal_count(grid, done_rows):\n",
    "            continue\n",
    "        if equal_count(grid.T, done_cols):\n",
    "            continue\n",
    "        if subsequent(grid, done_rows):\n",
    "            continue\n",
    "        if subsequent(grid.T, done_cols):\n",
    "            continue\n",
    "        if unique(grid, done_rows):\n",
    "            continue\n",
    "        if unique(grid.T, done_cols):\n",
    "            continue\n",
    "        break\n",
    "    return grid\n",
    "\n",
    "solve(GRID)\n"
   ]
  },
  {
   "cell_type": "code",
   "execution_count": 3,
   "metadata": {},
   "outputs": [
    {
     "name": "stdout",
     "output_type": "stream",
     "text": [
      "[1 0]\n",
      "[[1 1 2 2]\n",
      " [2 1 1 2]\n",
      " [2 2 1 1]\n",
      " [1 2 2 1]]\n",
      "[[1 1 2 2]\n",
      " [2 2 1 1]\n",
      " [2 2 1 1]\n",
      " [1 2 2 1]]\n"
     ]
    }
   ],
   "source": [
    "# SAVE AND LOAD configirations\n",
    "\n",
    "# save = {str(i) : a for i, a in enumerate(configs)}  # Give them names \n",
    "configs = [[1, 0], A, B]  # Or just use a list\n",
    "np.savez(\"duko_configs.npz\", *configs)  # Save them\n",
    "\n",
    "loaded = np.load(\"duko_configs.npz\")\n",
    "configs = loaded.values()\n",
    "for kek in configs:\n",
    "    print(kek)"
   ]
  },
  {
   "attachments": {},
   "cell_type": "markdown",
   "metadata": {},
   "source": [
    "## Generator"
   ]
  },
  {
   "cell_type": "code",
   "execution_count": 15,
   "metadata": {},
   "outputs": [
    {
     "name": "stdout",
     "output_type": "stream",
     "text": [
      "[[2 0 1 2]\n",
      " [1 1 0 0]\n",
      " [1 0 1 1]\n",
      " [2 2 0 2]]\n"
     ]
    }
   ],
   "source": [
    "def pure_random():\n",
    "    \"\"\"Randomly fills the grid with 1s and 2s.\"\"\"\n",
    "    return np.random.randint(0, 3, size=(N, N))\n",
    "\n",
    "kek = pure_random()\n",
    "print(kek)    "
   ]
  },
  {
   "cell_type": "code",
   "execution_count": 4,
   "metadata": {},
   "outputs": [],
   "source": [
    "def valid_action(grid, pos, color):\n",
    "    \"\"\"Check that placing color at pos is valid.\"\"\"\n",
    "    r, c = pos\n",
    "    if grid[r, c] != 0:  # Neccessary?\n",
    "        return False\n",
    "\n",
    "    # Equal count\n",
    "    if np.sum(grid[r] == color) + 1 > N_2 or np.sum(grid[:, c] == color) + 1 > N_2:\n",
    "        return False\n",
    "\n",
    "    # Check gap subsequent\n",
    "    if 0 < r < N-1 and grid[r-1, c] == grid[r+1, c] == color:\n",
    "        return False\n",
    "    if 0 < c < N-1 and grid[r, c-1] == grid[r, c+1] == color:\n",
    "        return False\n",
    "\n",
    "    # Check subsequent\n",
    "    if r > 1 and grid[r-2, c] == grid[r-1, c] == color:\n",
    "        return False\n",
    "    if r < N-2 and grid[r+2, c] == grid[r+1, c] == color:\n",
    "        return False\n",
    "    if c > 1 and grid[r, c-2] == grid[r, c-1] == color:\n",
    "        return False\n",
    "    if c < N-2 and grid[r, c+2] == grid[r, c+1] == color:\n",
    "        return False\n",
    "    \n",
    "    return True\n"
   ]
  },
  {
   "cell_type": "code",
   "execution_count": 5,
   "metadata": {},
   "outputs": [
    {
     "name": "stdout",
     "output_type": "stream",
     "text": [
      "[[1 2 1 1]\n",
      " [2 1 2 1]\n",
      " [2 2 1 2]\n",
      " [1 1 2 2]]\n"
     ]
    }
   ],
   "source": [
    "def get_consequence_action(grid):\n",
    "    \"\"\"Returns first action that follows from current grid \n",
    "    or None if no such action exists (exhausted).\"\"\"\n",
    "    pass\n",
    "\n",
    "\n",
    "def explore_action(grid, pos, color):\n",
    "    \"\"\"Returns exhausted grid or None if invalid\"\"\"\n",
    "    grid = grid.copy()\n",
    "    new_action = (pos, color)\n",
    "\n",
    "    # Try new action until grid is exhausted or it is invalid\n",
    "    while valid_action(grid, *new_action):\n",
    "        grid[pos] = color\n",
    "        new_action = get_consequence_action(grid)\n",
    "        if new_action is None:\n",
    "            return grid\n",
    "        \n",
    "    return None\n",
    "\n",
    "def generate_grid():\n",
    "    new = np.zeros((N, N), dtype=np.int8)\n",
    "    free_tiles = [(i, j) for i in range(N) for j in range(N)]\n",
    "    while len(free_tiles) > 0:\n",
    "        indx = np.random.randint(len(free_tiles))\n",
    "        pos = free_tiles.pop(indx)\n",
    "        if new[pos] != 0:\n",
    "            continue\n",
    "\n",
    "        color = np.random.randint(1, 3)\n",
    "        result = explore_action(new, pos, color)\n",
    "        if result is not None:\n",
    "            new = result\n",
    "        else:\n",
    "            new[pos] = FLIP[color]\n",
    "    \n",
    "    return new\n",
    "\n",
    "\n",
    "print(generate_grid())"
   ]
  },
  {
   "cell_type": "code",
   "execution_count": 6,
   "metadata": {},
   "outputs": [
    {
     "name": "stdout",
     "output_type": "stream",
     "text": [
      "True\n",
      "True\n"
     ]
    }
   ],
   "source": [
    "i = 0\n",
    "while k := i < 2:\n",
    "    i += 1\n",
    "    print(k)"
   ]
  }
 ],
 "metadata": {
  "kernelspec": {
   "display_name": "Python 3",
   "language": "python",
   "name": "python3"
  },
  "language_info": {
   "codemirror_mode": {
    "name": "ipython",
    "version": 3
   },
   "file_extension": ".py",
   "mimetype": "text/x-python",
   "name": "python",
   "nbconvert_exporter": "python",
   "pygments_lexer": "ipython3",
   "version": "3.10.8"
  },
  "orig_nbformat": 4
 },
 "nbformat": 4,
 "nbformat_minor": 2
}
