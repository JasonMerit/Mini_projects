{
 "cells": [
  {
   "cell_type": "code",
   "execution_count": 1,
   "metadata": {},
   "outputs": [],
   "source": [
    "import numpy as np\n",
    "A = [[1, 1, 2, 2], [2, 1, 1, 2], [2, 2, 1, 1], [1, 2, 2, 1]]\n",
    "B = np.array([[1, 1, 2, 2], [2, 2, 1, 1], [2, 2, 1, 1], [1, 2, 2, 1]], dtype=np.int8)\n",
    "C = np.array([\n",
    "            [0, 0, 0, 0], \n",
    "            [0, 1, 0, 1], \n",
    "            [0, 0, 2, 0], \n",
    "            [0, 1, 0, 0]], dtype=np.int8)\n",
    "D = np.array([\n",
    "            [1, 1, 0, 0], \n",
    "            [0, 1, 1, 0], \n",
    "            [0, 0, 1, 1], \n",
    "            [1, 0, 0, 1]], dtype=np.int8)\n",
    "E = np.array([  # Unique \n",
    "            [1, 2, 2, 1], \n",
    "            [2, 1, 1, 2], \n",
    "            [2, 0, 0, 0], \n",
    "            [1, 2, 0, 0]], dtype=np.int8)\n",
    "F = np.array([  # Search\n",
    "            [0, 0, 0, 0], \n",
    "            [0, 1, 0, 1], \n",
    "            [0, 0, 2, 0], \n",
    "            [0, 0, 0, 0]], dtype=np.int8)\n",
    "# F = np.array([  # Passes validation\n",
    "#             [2, 1, 1, 2], \n",
    "#             [1, 2, 2, 1], \n",
    "#             [2, 1, 1, 2], \n",
    "#             [1, 2, 2, 1]], dtype=np.int8)\n",
    "\n",
    "\n",
    "GRID = C.copy()\n",
    "dim = len(GRID)\n",
    "dim_2 = dim // 2\n",
    "FLIP = np.array([0, 2, 1])"
   ]
  },
  {
   "cell_type": "code",
   "execution_count": 3,
   "metadata": {},
   "outputs": [
    {
     "data": {
      "text/plain": [
       "[1]"
      ]
     },
     "execution_count": 3,
     "metadata": {},
     "output_type": "execute_result"
    }
   ],
   "source": [
    "A = [1, 2]\n",
    "A.pop()\n",
    "A"
   ]
  },
  {
   "cell_type": "code",
   "execution_count": 3,
   "metadata": {},
   "outputs": [],
   "source": [
    "def valid_grid(grid, verbose=False):\n",
    "    \"\"\"Check that grid is valid.\"\"\"\n",
    "    dim = len(grid)\n",
    "    dim_2 = dim // 2\n",
    "    \n",
    "    # Equal count\n",
    "    if np.any(np.sum(grid == 1, axis=1) > dim_2) or np.any(np.sum(grid == 2, axis=1) > dim_2):\n",
    "        if verbose:\n",
    "            print(\"Unequal count - rows\")\n",
    "        return False\n",
    "    if np.any(np.sum(grid == 1, axis=0) > dim_2) or np.any(np.sum(grid == 2, axis=0) > dim_2):\n",
    "        if verbose:\n",
    "            print(\"Unequal count - cols\")\n",
    "        return False\n",
    "    \n",
    "    # Subsequent (3 in a row)\n",
    "    for r in range(dim):\n",
    "        for c in range(dim):\n",
    "            if c < dim-2 and grid[r, c] == grid[r, c+1] == grid[r, c+2] != 0:\n",
    "                if verbose:\n",
    "                    print(\"Subsequent - rows\")\n",
    "                return False\n",
    "            if r < dim-2 and grid[r, c] == grid[r+1, c] == grid[r+2, c] != 0:\n",
    "                if verbose:\n",
    "                    print(\"Subsequent - cols\")\n",
    "                return False\n",
    "    \n",
    "    # Unique\n",
    "    full_rows = grid[np.where(grid.all(axis=1))[0]]\n",
    "    if len(full_rows) != len(np.unique(full_rows, axis=0)):\n",
    "        if verbose:\n",
    "            print(\"Duplicate - rows\")\n",
    "        return False\n",
    "    \n",
    "    full_cols = grid.T[np.where(grid.all(axis=0))[0]]\n",
    "    if len(full_cols) != len(np.unique(full_cols, axis=0)):\n",
    "        if verbose:\n",
    "            print(\"Duplicate - cols\")\n",
    "        return False\n",
    "    \n",
    "    return True"
   ]
  },
  {
   "attachments": {},
   "cell_type": "markdown",
   "metadata": {},
   "source": [
    "## Solver"
   ]
  },
  {
   "cell_type": "code",
   "execution_count": 1,
   "metadata": {},
   "outputs": [
    {
     "ename": "NameError",
     "evalue": "name 'E' is not defined",
     "output_type": "error",
     "traceback": [
      "\u001b[1;31m---------------------------------------------------------------------------\u001b[0m",
      "\u001b[1;31mNameError\u001b[0m                                 Traceback (most recent call last)",
      "Cell \u001b[1;32mIn[1], line 183\u001b[0m\n\u001b[0;32m    179\u001b[0m                     gaps \u001b[39m=\u001b[39m np\u001b[39m.\u001b[39mwhere(candy \u001b[39m==\u001b[39m \u001b[39m0\u001b[39m)[\u001b[39m0\u001b[39m][\u001b[39m0\u001b[39m]  \u001b[39m# [2, 3]\u001b[39;00m\n\u001b[0;32m    180\u001b[0m                     \u001b[39mreturn\u001b[39;00m (gapped_rows_indx[i], gaps), FLIP[row[gaps]]\n\u001b[1;32m--> 183\u001b[0m GRID \u001b[39m=\u001b[39m E\u001b[39m.\u001b[39mcopy()\n\u001b[0;32m    184\u001b[0m solver \u001b[39m=\u001b[39m Solver()\n\u001b[0;32m    185\u001b[0m \u001b[39mprint\u001b[39m(GRID)\n",
      "\u001b[1;31mNameError\u001b[0m: name 'E' is not defined"
     ]
    }
   ],
   "source": [
    "class Solver():\n",
    "    \"\"\"General solver class.\n",
    "    Helper class to Generator.\"\"\"\n",
    "\n",
    "    def solve(self, grid):\n",
    "        \"\"\"Returns an exhasuted grid.\n",
    "        Assumes valid grid.\"\"\"\n",
    "        grid = grid.copy()\n",
    "        while True:\n",
    "            full_r = np.where(grid.all(axis=1))[0]\n",
    "            full_c = np.where(grid.all(axis=0))[0]\n",
    "\n",
    "            if self.subsequent(grid, full_r):\n",
    "                continue\n",
    "            if self.subsequent(grid.T, full_c):\n",
    "                continue\n",
    "            if self.equal_count(grid, full_r):\n",
    "                continue\n",
    "            if self.equal_count(grid.T, full_c):\n",
    "                continue\n",
    "            if self.unique(grid, full_r):\n",
    "                continue\n",
    "            if self.unique(grid.T, full_c):\n",
    "                continue\n",
    "            break\n",
    "\n",
    "        return grid\n",
    "\n",
    "    def subsequent(self, rows, full):\n",
    "        \"\"\"Checks for subsequent 1s and 2s in rows and cols.\n",
    "        Returns True if any changes are made.\"\"\"\n",
    "        changed = False\n",
    "        dim = len(rows)\n",
    "\n",
    "        for r, row in enumerate(rows):\n",
    "            if r in full:\n",
    "                continue\n",
    "            \n",
    "            for i in range(len(row)-1):\n",
    "                if row[i] == row[i+1] != 0:\n",
    "                    if i < dim-2 and rows[r, i+2] == 0: # if next is empty\n",
    "                        rows[r, i+2] = FLIP[row[i]]\n",
    "                        changed = True\n",
    "\n",
    "                    if i > 0 and rows[r, i-1] == 0: # if prev is empty\n",
    "                        rows[r, i-1] = FLIP[row[i]]\n",
    "                        changed = True\n",
    "                    \n",
    "                if i < len(row)-2 and row[i] == row[i+2] != 0 and row[i+1] == 0:  # Gap between two same\n",
    "                    rows[r, i+1] = FLIP[row[i]]\n",
    "                    changed = True\n",
    "\n",
    "        return changed\n",
    "\n",
    "    def equal_count(self, rows, full):\n",
    "        \"\"\"Checks for equal count of 1s and 2s.\n",
    "        param rows: 2D array\n",
    "        param full: set of rows or cols that are already full\n",
    "        Returns True if any changes are made.\"\"\"\n",
    "        changed = False\n",
    "        dim_2 = len(rows) // 2\n",
    "\n",
    "        for r, row in enumerate(rows):\n",
    "            if r in full:\n",
    "                continue\n",
    "\n",
    "            if np.sum(row == 1) == dim_2:\n",
    "                rows[r, np.where(row == 0)[0]] = 2\n",
    "                changed = True\n",
    "\n",
    "            elif np.sum(row == 2) == dim_2:\n",
    "                rows[r, np.where(row == 0)[0]] = 1\n",
    "                changed = True\n",
    "        \n",
    "        return changed\n",
    "\n",
    "    def unique(self, rows, full):\n",
    "        \"\"\"Checks for unique rows and cols.\n",
    "        Returns True if any changes are made.\"\"\"\n",
    "        changed = False\n",
    "\n",
    "        # Find rows containing exacty two gaps\n",
    "        gapped_rows_indx = np.where(np.sum(rows == 0, axis=1) == 2)[0]  # [2 3]\n",
    "        candidates = rows[gapped_rows_indx]  # [[2 1 0 0], [1 0 0 2]]\n",
    "        full_rows = rows[full]  # [[2 1 1 2]]\n",
    "\n",
    "        # Compare each candidate with other complete rows\n",
    "        for i, candy in enumerate(candidates):\n",
    "            # Find index of colored tiles\n",
    "            idx = np.where(candy != 0)[0]  # [0 1]\n",
    "            for row in full_rows:\n",
    "                if np.array_equal(row[idx], candy[idx]):\n",
    "                    # Replace the two gaps with complementary colors\n",
    "                    gaps = np.where(candy == 0)[0]  # [2, 3]\n",
    "                    rows[gapped_rows_indx[i], gaps] = FLIP[row[gaps]]\n",
    "\n",
    "                    changed = True\n",
    "        \n",
    "        return changed\n",
    "    \n",
    "    def get_next(self, grid):\n",
    "        \"\"\"Returns the next grid in the sequence.\n",
    "        Assumes valid grid.\"\"\"\n",
    "        grid = grid.copy()\n",
    "\n",
    "        full_r = np.where(grid.all(axis=1))[0]\n",
    "        full_c = np.where(grid.all(axis=0))[0]\n",
    "\n",
    "        if action := self._subsequent(grid, full_r):\n",
    "            return action\n",
    "        if action := self._subsequent(grid.T, full_c):\n",
    "            (y, x), color = action \n",
    "            return (x, y), color\n",
    "        if action := self._equal_count(grid, full_r):\n",
    "            return action\n",
    "        if action := self._equal_count(grid.T, full_c):\n",
    "            (y, x), color = action \n",
    "            return (x, y), color\n",
    "        if action := self._unique(grid, full_r):\n",
    "            return action\n",
    "        if action := self._unique(grid.T, full_c):\n",
    "            (y, x), color = action \n",
    "            return (x, y), color\n",
    "        raise Exception(\"No action found\")\n",
    "        \n",
    "    def _subsequent(self, rows, full):\n",
    "        \"\"\"Checks for subsequent 1s and 2s in rows and cols.\n",
    "        Returns True if any changes are made.\"\"\"\n",
    "        dim = len(rows)\n",
    "\n",
    "        for r, row in enumerate(rows):\n",
    "            if r in full:\n",
    "                continue\n",
    "            \n",
    "            for i in range(len(row)-1):\n",
    "                if row[i] == row[i+1] != 0:\n",
    "                    if i < dim-2 and rows[r, i+2] == 0: # if next is empty\n",
    "                        return (r, i+2), FLIP[row[i]]\n",
    "\n",
    "                    if i > 0 and rows[r, i-1] == 0: # if prev is empty\n",
    "                        return (r, i-1), FLIP[row[i]]\n",
    "                    \n",
    "                if i < len(row)-2 and row[i] == row[i+2] != 0 and row[i+1] == 0:  # Gap between two same\n",
    "                    return (r, i+1), FLIP[row[i]]\n",
    "\n",
    "    def _equal_count(self, rows, full):\n",
    "        \"\"\"Checks for equal count of 1s and 2s.\n",
    "        param rows: 2D array\n",
    "        param full: set of rows or cols that are already full\n",
    "        Returns True if any changes are made.\"\"\"\n",
    "        dim_2 = len(rows) // 2\n",
    "\n",
    "        for r, row in enumerate(rows):\n",
    "            if r in full:\n",
    "                continue\n",
    "\n",
    "            if np.sum(row == 1) == dim_2:\n",
    "                return (r, np.where(row == 0)[0][0]), 2\n",
    "\n",
    "            elif np.sum(row == 2) == dim_2:\n",
    "                return (r, np.where(row == 0)[0][0]), 1\n",
    "        \n",
    "    def _unique(self, rows, full):\n",
    "        \"\"\"Checks for unique rows and cols.\n",
    "        Returns True if any changes are made.\"\"\"\n",
    "\n",
    "        # Find rows containing exacty two gaps\n",
    "        gapped_rows_indx = np.where(np.sum(rows == 0, axis=1) == 2)[0]  # [2 3]\n",
    "        candidates = rows[gapped_rows_indx]  # [[2 1 0 0], [1 0 0 2]]\n",
    "        full_rows = rows[full]  # [[2 1 1 2]]\n",
    "\n",
    "        # Compare each candidate with other complete rows\n",
    "        for i, candy in enumerate(candidates):\n",
    "            # Find index of colored tiles\n",
    "            idx = np.where(candy != 0)[0]  # [0 1]\n",
    "            for row in full_rows:\n",
    "                if np.array_equal(row[idx], candy[idx]):\n",
    "                    # Replace the two gaps with complementary colors\n",
    "                    gaps = np.where(candy == 0)[0][0]  # [2, 3]\n",
    "                    return (gapped_rows_indx[i], gaps), FLIP[row[gaps]]\n",
    "    \n",
    "\n",
    "GRID = E.copy()\n",
    "solver = Solver()\n",
    "print(GRID)"
   ]
  },
  {
   "cell_type": "code",
   "execution_count": 59,
   "metadata": {},
   "outputs": [
    {
     "name": "stdout",
     "output_type": "stream",
     "text": [
      "[10  5  4  3]\n"
     ]
    }
   ],
   "source": [
    "A = np.array([4, 8, 10, 12])\n",
    "print(480 // A // 12)"
   ]
  },
  {
   "cell_type": "code",
   "execution_count": 52,
   "metadata": {},
   "outputs": [
    {
     "name": "stdout",
     "output_type": "stream",
     "text": [
      "((3, 3), 2)\n",
      "[[1 2 2 1]\n",
      " [2 1 1 2]\n",
      " [2 1 2 1]\n",
      " [1 2 1 2]]\n"
     ]
    }
   ],
   "source": [
    "action = solver.get_next(GRID)\n",
    "print(action)\n",
    "(y, x), COLOR = action\n",
    "GRID[y, x] = COLOR\n",
    "print(GRID)\n"
   ]
  },
  {
   "cell_type": "code",
   "execution_count": 352,
   "metadata": {},
   "outputs": [
    {
     "name": "stdout",
     "output_type": "stream",
     "text": [
      "[[1 1 2 2 1 1 2 2]\n",
      " [2 2 1 2 1 2 1 1]\n",
      " [1 1 2 1 2 1 2 2]\n",
      " [2 2 1 1 2 2 1 1]\n",
      " [1 1 2 2 1 2 1 2]\n",
      " [2 1 1 2 1 1 2 2]\n",
      " [2 2 1 1 2 1 2 1]\n",
      " [1 2 2 1 2 2 1 1]] True\n"
     ]
    }
   ],
   "source": [
    "solver = Solver()\n",
    "GRID = np.load('grid.npy')\n",
    "GRID = solver.solve(GRID)\n",
    "print(GRID, valid_grid(GRID))"
   ]
  },
  {
   "attachments": {},
   "cell_type": "markdown",
   "metadata": {},
   "source": [
    "## Generator"
   ]
  },
  {
   "cell_type": "code",
   "execution_count": 349,
   "metadata": {},
   "outputs": [
    {
     "name": "stdout",
     "output_type": "stream",
     "text": [
      "Generating grid...\n",
      "[[2 0 2 0]\n",
      " [0 0 0 1]\n",
      " [0 0 0 0]\n",
      " [0 0 2 0]] True\n"
     ]
    }
   ],
   "source": [
    "class Generator():\n",
    "    \"\"\"Generates Takuzu puzzles.\"\"\"\n",
    "    # https://stackoverflow.com/questions/6924216/how-to-generate-sudoku-boards-with-unique-solutions\n",
    "\n",
    "    def __init__(self):\n",
    "        self.solver = Solver()\n",
    "        self.solve = self.solver.solve\n",
    "    \n",
    "    def valid_grid(self, grid, verbose=False):\n",
    "        \"\"\"Check that grid is valid.\"\"\"\n",
    "        dim = len(grid)\n",
    "        dim_2 = dim // 2\n",
    "        \n",
    "        # Equal count\n",
    "        if np.any(np.sum(grid == 1, axis=1) > dim_2) or np.any(np.sum(grid == 2, axis=1) > dim_2):\n",
    "            if verbose:\n",
    "                print(\"Unequal count - rows\")\n",
    "            return False\n",
    "        if np.any(np.sum(grid == 1, axis=0) > dim_2) or np.any(np.sum(grid == 2, axis=0) > dim_2):\n",
    "            if verbose:\n",
    "                print(\"Unequal count - cols\")\n",
    "            return False\n",
    "        \n",
    "        # Subsequent (3 in a row)\n",
    "        for r in range(dim):\n",
    "            for c in range(dim):\n",
    "                if c < dim-2 and grid[r, c] == grid[r, c+1] == grid[r, c+2] != 0:\n",
    "                    if verbose:\n",
    "                        print(\"Subsequent - rows\")\n",
    "                    return False\n",
    "                if r < dim-2 and grid[r, c] == grid[r+1, c] == grid[r+2, c] != 0:\n",
    "                    if verbose:\n",
    "                        print(\"Subsequent - cols\")\n",
    "                    return False\n",
    "        \n",
    "        # Unique\n",
    "        full_rows = grid[np.where(grid.all(axis=1))[0]]\n",
    "        if len(full_rows) != len(np.unique(full_rows, axis=0)):\n",
    "            if verbose:\n",
    "                print(\"Duplicate - rows\")\n",
    "            return False\n",
    "        \n",
    "        full_cols = grid.T[np.where(grid.all(axis=0))[0]]\n",
    "        if len(full_cols) != len(np.unique(full_cols, axis=0)):\n",
    "            if verbose:\n",
    "                print(\"Duplicate - cols\")\n",
    "            return False\n",
    "        \n",
    "        return True\n",
    "\n",
    "    def generate_grid(self, dim):\n",
    "        print(\"Generating grid...\")\n",
    "        new = np.zeros((dim, dim), dtype=np.int8)\n",
    "        complete = self.solve_search(new)\n",
    "        return complete\n",
    "        # grid = self.subtract(complete)\n",
    "        return grid\n",
    "    \n",
    "    # Second algorithm from stackoverflow\n",
    "    def solve_search(self, grid, depth=0):\n",
    "        \"\"\"Solves and searches for solution.\n",
    "        Returns None if no solution found or grid if solution found.\"\"\"\n",
    "        # print(depth)\n",
    "        grid = self.solve(grid)\n",
    "        \n",
    "        if not self.valid_grid(grid): # Invalid, so backtrack\n",
    "            # print(grid,'\\n')\n",
    "            return None\n",
    "        \n",
    "        if 0 not in grid:  # Solved, so terminal state\n",
    "            return grid\n",
    "\n",
    "        # Randomly select empty cell and fill with 1 or 2\n",
    "        empty_cells = list(zip(*np.where(grid == 0)))\n",
    "        tile = empty_cells[np.random.randint(len(empty_cells))]\n",
    "        color = np.random.randint(1, 3)\n",
    "\n",
    "        grid[tile] = color\n",
    "        result = self.solve_search(grid, depth+1)\n",
    "\n",
    "        if result is None:\n",
    "            grid[tile] = FLIP[color]\n",
    "            result = self.solve_search(grid, depth+1)\n",
    "        return result\n",
    "\n",
    "    # First algorithm from stackoverflow\n",
    "    def subtract(self, grid):\n",
    "        \"\"\"Subtracts a random tiles until one more subtraction requres solve_search.\"\"\"\n",
    "        \n",
    "        # 2) Shuffle a list of all tiles\n",
    "        tiles = [(r, c) for r in range(len(grid)) for c in range(len(grid))]\n",
    "        np.random.shuffle(tiles) \n",
    "\n",
    "        while tiles:\n",
    "            # 3) Remove a tile from grid\n",
    "            tile = tiles.pop()\n",
    "            color = grid[tile]\n",
    "            grid[tile] = 0\n",
    "\n",
    "            # # 4) Test uniqueness of grid\n",
    "            # if not self.is_unique(grid):\n",
    "            #     # 6) If not unique, add tile back and continue\n",
    "            #     grid[tile] = color\n",
    "\n",
    "            \n",
    "\n",
    "        return grid\n",
    "    \n",
    "    def is_unique(self, grid):\n",
    "        \"\"\"Checks if grid is unique.\"\"\"\n",
    "        return self.unique_solution(grid) == 1\n",
    "    \n",
    "    def unique_solution(self, grid, solved=False):\n",
    "        \"\"\"Solves and searches for solution.\n",
    "        Returns False if multiple solutions.\"\"\"\n",
    "\n",
    "        grid = self.solve(grid)\n",
    "        \n",
    "        if not self.valid_grid(grid): # Invalid, so backtrack\n",
    "            return False\n",
    "        \n",
    "        if 0 not in grid:  # Solved, so terminal state\n",
    "            return 1\n",
    "\n",
    "        # Find frist instance of 0\n",
    "        zeros = np.where(grid == 0)\n",
    "        tile = zeros[0][0], zeros[1][0]\n",
    "\n",
    "        # First go left, then right\n",
    "        grid[tile] = 1\n",
    "        left = self.unique_solution(grid, solved)\n",
    "\n",
    "        grid[tile] = 2\n",
    "        right = self.unique_solution(grid, solved)\n",
    "\n",
    "        if left == 2 or right == 2:\n",
    "            return 2\n",
    "        if left == 1 and right == 1:\n",
    "            return 2\n",
    "        return self.unique_solution(grid, solved)\n",
    "\n",
    "generator = Generator()\n",
    "grid = generator.generate_grid(4)\n",
    "grid = generator.subtract(grid)\n",
    "# grid = np.zeros((4, 4), dtype=np.int8)\n",
    "# grid = np.array([[1, 2], [2, 1]])\n",
    "print(grid, generator.is_unique(grid))\n"
   ]
  },
  {
   "cell_type": "code",
   "execution_count": 339,
   "metadata": {},
   "outputs": [
    {
     "data": {
      "text/plain": [
       "array([[0, 0, 0, 2],\n",
       "       [0, 0, 0, 1],\n",
       "       [2, 1, 2, 1],\n",
       "       [1, 2, 1, 2]], dtype=int8)"
      ]
     },
     "execution_count": 339,
     "metadata": {},
     "output_type": "execute_result"
    }
   ],
   "source": [
    "GRID[0, 0] = \n",
    "GRID"
   ]
  },
  {
   "cell_type": "code",
   "execution_count": 249,
   "metadata": {},
   "outputs": [
    {
     "name": "stdout",
     "output_type": "stream",
     "text": [
      "(array([0, 0, 1, 1, 1, 1, 2, 2, 2, 2, 3, 3, 3, 3], dtype=int64), array([2, 3, 0, 1, 2, 3, 0, 1, 2, 3, 0, 1, 2, 3], dtype=int64))\n"
     ]
    },
    {
     "data": {
      "text/plain": [
       "(0, 2)"
      ]
     },
     "execution_count": 249,
     "metadata": {},
     "output_type": "execute_result"
    }
   ],
   "source": [
    "A = np.zeros((4, 4), dtype=np.int8)\n",
    "A[0, 0] = 1\n",
    "A[0, 1] = 1\n",
    "# Find firs tinstance of 0\n",
    "zeros = np.where(A == 0)\n",
    "print(zeros)\n",
    "tile = zeros[0][0], zeros[1][0]\n",
    "tile"
   ]
  },
  {
   "cell_type": "code",
   "execution_count": 201,
   "metadata": {},
   "outputs": [
    {
     "name": "stdout",
     "output_type": "stream",
     "text": [
      "[1, 2, 3]\n",
      "[1, 2]\n",
      "[1]\n",
      "[]\n"
     ]
    }
   ],
   "source": [
    "A = [1, 2, 3 ,4]\n",
    "while A:\n",
    "    \n",
    "    A.pop()\n",
    "    print(A)"
   ]
  },
  {
   "attachments": {},
   "cell_type": "markdown",
   "metadata": {},
   "source": [
    "## Save and load"
   ]
  },
  {
   "cell_type": "code",
   "execution_count": 8,
   "metadata": {},
   "outputs": [
    {
     "name": "stdout",
     "output_type": "stream",
     "text": [
      "[1 0]\n",
      "[[1 1 2 2]\n",
      " [2 1 1 2]\n",
      " [2 2 1 1]\n",
      " [1 2 2 1]]\n",
      "[[1 1 2 2]\n",
      " [2 2 1 1]\n",
      " [2 2 1 1]\n",
      " [1 2 2 1]]\n"
     ]
    }
   ],
   "source": [
    "# SAVE AND LOAD configirations\n",
    "\n",
    "# save = {str(i) : a for i, a in enumerate(configs)}  # Give them names \n",
    "configs = [[1, 0], A, B]  # Or just use a list\n",
    "np.savez(\"duko_configs.npz\", *configs)  # Save them\n",
    "\n",
    "loaded = np.load(\"duko_configs.npz\")\n",
    "configs = loaded.values()\n",
    "for kek in configs:\n",
    "    print(kek)"
   ]
  },
  {
   "cell_type": "code",
   "execution_count": 9,
   "metadata": {},
   "outputs": [],
   "source": [
    "# np.save('grid.npy', save)  # Save grid\n",
    "\n",
    "# loaded = np.load('grid.npy')\n",
    "# loaded"
   ]
  }
 ],
 "metadata": {
  "kernelspec": {
   "display_name": "Python 3",
   "language": "python",
   "name": "python3"
  },
  "language_info": {
   "codemirror_mode": {
    "name": "ipython",
    "version": 3
   },
   "file_extension": ".py",
   "mimetype": "text/x-python",
   "name": "python",
   "nbconvert_exporter": "python",
   "pygments_lexer": "ipython3",
   "version": "3.10.8"
  },
  "orig_nbformat": 4
 },
 "nbformat": 4,
 "nbformat_minor": 2
}
