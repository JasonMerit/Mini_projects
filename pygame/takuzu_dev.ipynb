{
 "cells": [
  {
   "cell_type": "code",
   "execution_count": 12,
   "metadata": {},
   "outputs": [],
   "source": [
    "import numpy as np\n",
    "A = [[1, 1, 2, 2], [2, 1, 1, 2], [2, 2, 1, 1], [1, 2, 2, 1]]\n",
    "B = np.array([[1, 1, 2, 2], [2, 2, 1, 1], [2, 2, 1, 1], [1, 2, 2, 1]], dtype=np.int8)\n",
    "C = np.array([\n",
    "            [0, 0, 0, 0], \n",
    "            [0, 1, 0, 1], \n",
    "            [0, 0, 2, 0], \n",
    "            [0, 1, 0, 0]], dtype=np.int8)\n",
    "D = np.array([\n",
    "            [1, 1, 0, 0], \n",
    "            [0, 1, 1, 0], \n",
    "            [0, 0, 1, 1], \n",
    "            [1, 0, 0, 1]], dtype=np.int8)\n",
    "E = np.array([  # Unique \n",
    "            [1, 2, 2, 1], \n",
    "            [2, 1, 1, 2], \n",
    "            [2, 1, 0, 0], \n",
    "            [1, 2, 0, 0]], dtype=np.int8)\n",
    "F = np.array([  # PassFs validation\n",
    "            [1, 2, 2, 1], \n",
    "            [2, 1, 1, 2], \n",
    "            [1, 2, 2, 1], \n",
    "            [2, 1, 1, 2]], dtype=np.int8)\n",
    "# F = np.array([  # Passes validation\n",
    "#             [2, 1, 1, 2], \n",
    "#             [1, 2, 2, 1], \n",
    "#             [2, 1, 1, 2], \n",
    "#             [1, 2, 2, 1]], dtype=np.int8)\n",
    "\n",
    "\n",
    "GRID = C.copy()\n",
    "dim = len(GRID)\n",
    "dim_2 = dim // 2"
   ]
  },
  {
   "attachments": {},
   "cell_type": "markdown",
   "metadata": {},
   "source": [
    "## Solver"
   ]
  },
  {
   "cell_type": "code",
   "execution_count": 4,
   "metadata": {
    "tags": [
     "hide-input"
    ]
   },
   "outputs": [],
   "source": [
    "DIGITS = set(range(dim))\n",
    "FLIP = np.array([0, 2, 1])\n",
    "GRID = C.copy()\n",
    "\n",
    "def subsequent(rows, full: set):\n",
    "    \"\"\"Checks for subsequent 1s and 2s in rows and cols.\n",
    "    Returns True if any changes are made.\"\"\"\n",
    "    changed = False\n",
    "\n",
    "    for r, row in enumerate(rows):\n",
    "        if r in full:\n",
    "            continue\n",
    "        \n",
    "        for i in range(len(row)-1):\n",
    "            if row[i] == row[i+1] != 0:\n",
    "                if i < dim-2 and rows[r, i+2] == 0: # if next is empty\n",
    "                    rows[r, i+2] = FLIP[row[i]]\n",
    "                    changed = True\n",
    "                    if np.all(row != 0):\n",
    "                        full.add(r)\n",
    "\n",
    "                if i > 0 and rows[r, i-1] == 0: # if prev is empty\n",
    "                    rows[r, i-1] = FLIP[row[i]]\n",
    "                    changed = True\n",
    "                    if np.all(row != 0):\n",
    "                        full.add(r)\n",
    "                \n",
    "                if i < len(row)-2 and row[i] == row[i+2] != 0 and row[i+1] == 0:  # Gap between two same\n",
    "                    rows[r, i+1] = FLIP[row[i]]\n",
    "                    changed = True\n",
    "                \n",
    "                    if np.all(row != 0):\n",
    "                        full.add(r)\n",
    "\n",
    "    return changed\n",
    "\n",
    "def equal_count(rows, full: set):\n",
    "    \"\"\"Checks for equal count of 1s and 2s.\n",
    "    param rows: 2D array\n",
    "    param full: set of rows or cols that are already full\n",
    "    Returns True if any changes are made.\"\"\"\n",
    "    changed = False\n",
    "    for r in (DIGITS - full):\n",
    "        row = rows[r]\n",
    "        # print(row)\n",
    "        if np.sum(row == 1) == dim_2:\n",
    "            rows[r, np.where(row == 0)[0]] = 2\n",
    "            full.add(r)\n",
    "            changed = True\n",
    "\n",
    "        elif np.sum(row == 2) == dim_2:\n",
    "            rows[r, np.where(row == 0)[0]] = 1\n",
    "            full.add(r)\n",
    "            changed = True\n",
    "    \n",
    "    return changed\n",
    "\n",
    "def unique(rows, full: set):\n",
    "    \"\"\"Checks for unique rows and cols.\n",
    "    Returns True if any changes are made.\"\"\"\n",
    "    changed = False\n",
    "\n",
    "    # Find rows containing exacty two gaps\n",
    "    gapped_rows_indx = np.where(np.sum(rows == 0, axis=1) == 2)[0]  # [2 3]\n",
    "    candidates = rows[gapped_rows_indx]  # [[2 1 0 0], [1 0 0 2]]\n",
    "    keks = rows[list(full)]  # [[2 1 1 2]]\n",
    "\n",
    "    # Compare each candidate with other complete rows\n",
    "    for i, candy in enumerate(candidates):\n",
    "        # Find index of colored tiles\n",
    "        idx = np.where(candy != 0)[0]  # [0 1]\n",
    "        for kek in keks:\n",
    "            if np.array_equal(kek[idx], candy[idx]):\n",
    "                # Replace the two gaps with complementary colors\n",
    "                gaps = np.where(candy == 0)[0]  # [2, 3]\n",
    "                rows[gapped_rows_indx[i], gaps] = FLIP[kek[gaps]]\n",
    "\n",
    "                full.add(gapped_rows_indx[i])\n",
    "                changed = True\n",
    "    \n",
    "    return changed\n",
    "\n",
    "def solve(grid):\n",
    "    \"\"\"Solves grid in place.\n",
    "    Assumes valid grid.\"\"\"\n",
    "    full_rows, full_cols = set(), set()\n",
    "    while True:\n",
    "        if subsequent(grid, full_rows):\n",
    "            continue\n",
    "        if subsequent(grid.T, full_cols):\n",
    "            continue\n",
    "        if equal_count(grid, full_rows):\n",
    "            continue\n",
    "        if equal_count(grid.T, full_cols):\n",
    "            continue\n",
    "        if unique(grid, full_rows):\n",
    "            continue\n",
    "        if unique(grid.T, full_cols):\n",
    "            continue\n",
    "        break\n",
    "\n",
    "solve(GRID)\n"
   ]
  },
  {
   "attachments": {},
   "cell_type": "markdown",
   "metadata": {},
   "source": [
    "## Save and load"
   ]
  },
  {
   "cell_type": "code",
   "execution_count": null,
   "metadata": {},
   "outputs": [
    {
     "name": "stdout",
     "output_type": "stream",
     "text": [
      "[1 0]\n",
      "[[1 1 2 2]\n",
      " [2 1 1 2]\n",
      " [2 2 1 1]\n",
      " [1 2 2 1]]\n",
      "[[1 1 2 2]\n",
      " [2 2 1 1]\n",
      " [2 2 1 1]\n",
      " [1 2 2 1]]\n"
     ]
    }
   ],
   "source": [
    "# SAVE AND LOAD configirations\n",
    "\n",
    "# save = {str(i) : a for i, a in enumerate(configs)}  # Give them names \n",
    "configs = [[1, 0], A, B]  # Or just use a list\n",
    "np.savez(\"duko_configs.npz\", *configs)  # Save them\n",
    "\n",
    "loaded = np.load(\"duko_configs.npz\")\n",
    "configs = loaded.values()\n",
    "for kek in configs:\n",
    "    print(kek)"
   ]
  },
  {
   "attachments": {},
   "cell_type": "markdown",
   "metadata": {},
   "source": [
    "## Generator"
   ]
  },
  {
   "cell_type": "code",
   "execution_count": 2,
   "metadata": {},
   "outputs": [
    {
     "name": "stdout",
     "output_type": "stream",
     "text": [
      "[[0 0 0 2 0 0]\n",
      " [0 1 1 2 2 1]\n",
      " [0 0 2 2 2 1]\n",
      " [2 2 2 0 0 2]\n",
      " [2 2 1 2 2 1]\n",
      " [1 1 2 0 2 2]]\n"
     ]
    }
   ],
   "source": [
    "def pure_random(n=4):\n",
    "    \"\"\"Randomly fills the grid with 1s and 2s.\"\"\"\n",
    "    return np.random.randint(0, 3, size=(n, n))\n",
    "\n",
    "kek = pure_random(6)\n",
    "print(kek)    "
   ]
  },
  {
   "cell_type": "code",
   "execution_count": 14,
   "metadata": {},
   "outputs": [
    {
     "name": "stdout",
     "output_type": "stream",
     "text": [
      "[[1 0 2 1 0 2]\n",
      " [1 1 0 2 2 0]\n",
      " [2 2 2 2 2 1]\n",
      " [2 2 2 1 2 1]\n",
      " [2 2 2 0 1 2]\n",
      " [1 2 0 0 0 0]]\n",
      "[[1 1 2 1 1 2]\n",
      " [1 1 2 2 2 2]\n",
      " [2 2 2 2 2 1]\n",
      " [2 2 2 1 2 1]\n",
      " [2 2 2 1 1 2]\n",
      " [1 2 0 1 0 0]]\n",
      "\n",
      "[[0 0 1 1 1 0]\n",
      " [2 2 2 0 0 1]\n",
      " [1 2 1 0 1 1]\n",
      " [1 2 1 1 1 0]\n",
      " [2 1 2 0 1 1]\n",
      " [1 0 0 0 0 0]]\n",
      "[[1 2 1 1 1 2]\n",
      " [2 2 2 1 2 1]\n",
      " [1 2 1 2 1 1]\n",
      " [1 2 1 1 1 2]\n",
      " [2 1 2 2 1 1]\n",
      " [1 2 1 1 2 1]]\n",
      "\n"
     ]
    }
   ],
   "source": [
    "def valid_action(grid, pos, color):\n",
    "    \"\"\"Check that placing color at pos is valid.\"\"\"\n",
    "    r, c = pos\n",
    "    if grid[r, c] != 0:  # Neccessary?\n",
    "        return False\n",
    "\n",
    "    # Equal count\n",
    "    if np.sum(grid[r] == color) + 1 > dim_2 or np.sum(grid[:, c] == color) + 1 > dim_2:\n",
    "        return False\n",
    "\n",
    "    # Check gap subsequent\n",
    "    if 0 < r < dim-1 and grid[r-1, c] == grid[r+1, c] == color:\n",
    "        return False\n",
    "    if 0 < c < dim-1 and grid[r, c-1] == grid[r, c+1] == color:\n",
    "        return False\n",
    "\n",
    "    # Check subsequent\n",
    "    if r > 1 and grid[r-2, c] == grid[r-1, c] == color:\n",
    "        return False\n",
    "    if r < dim-2 and grid[r+2, c] == grid[r+1, c] == color:\n",
    "        return False\n",
    "    if c > 1 and grid[r, c-2] == grid[r, c-1] == color:\n",
    "        return False\n",
    "    if c < dim-2 and grid[r, c+2] == grid[r, c+1] == color:\n",
    "        return False\n",
    "    \n",
    "    # Check unique\n",
    "    if len(np.unique(grid, axis=0)) != len(grid):\n",
    "        return False\n",
    "    if len(np.unique(grid, axis=1)) != len(grid):\n",
    "        return False\n",
    "    \n",
    "    return True\n",
    "\n",
    "def valid_grid(grid, verbose=False):\n",
    "    \"\"\"Check that grid is valid.\"\"\"\n",
    "    dim_2 = len(grid) // 2\n",
    "    \n",
    "    # # Equal count\n",
    "    # if np.any(np.sum(grid == 1, axis=1) > dim_2) or np.any(np.sum(grid == 2, axis=1) > dim_2):\n",
    "    #     return False\n",
    "    # if np.any(np.sum(grid == 1, axis=0) > dim_2) or np.any(np.sum(grid == 2, axis=0) > dim_2):\n",
    "    #     return False\n",
    "    \n",
    "    # # Subsequent (3 in a row)\n",
    "    # for r in range(dim):\n",
    "    #     for c in range(dim):\n",
    "    #         if c < dim-2 and grid[r, c] == grid[r, c+1] == grid[r, c+2] != 0:\n",
    "    #             if verbose:\n",
    "    #                 print(\"Subsequent\")\n",
    "    #             return False\n",
    "    #         if r < dim-2 and grid[r, c] == grid[r+1, c] == grid[r+2, c] != 0:\n",
    "    #             if verbose:\n",
    "    #                 print(\"Subsequent\")\n",
    "    #             return False\n",
    "    \n",
    "    # Unique\n",
    "    full_rows = grid[np.where(np.sum(grid == 0, axis=1) == 0)[0]]\n",
    "    if len(full_rows) != len(np.unique(full_rows, axis=0)):\n",
    "        if verbose:\n",
    "            print(\"Unique\")\n",
    "        return False\n",
    "    full_cols = grid.T[np.where(np.sum(grid == 0, axis=0) == 0)[0]]\n",
    "    if len(full_cols) != len(np.unique(full_cols, axis=0)):\n",
    "        if verbose:\n",
    "            print(\"Unique\")\n",
    "        return False\n",
    "\n",
    "    return True\n",
    "\n",
    "for _ in range(2):\n",
    "    kek = pure_random(6)\n",
    "    while not valid_grid(kek, True):\n",
    "        kek = pure_random(6)\n",
    "    print(kek)\n",
    "    solve(kek)\n",
    "    print(kek)\n",
    "    print()"
   ]
  },
  {
   "cell_type": "code",
   "execution_count": 16,
   "metadata": {},
   "outputs": [
    {
     "name": "stdout",
     "output_type": "stream",
     "text": [
      "Unique\n"
     ]
    },
    {
     "data": {
      "text/plain": [
       "False"
      ]
     },
     "execution_count": 16,
     "metadata": {},
     "output_type": "execute_result"
    }
   ],
   "source": [
    "GRID = F.copy()\n",
    "valid_grid(GRID, True)"
   ]
  },
  {
   "cell_type": "code",
   "execution_count": 11,
   "metadata": {},
   "outputs": [
    {
     "data": {
      "text/plain": [
       "array([[2, 2, 1, 1],\n",
       "       [1, 1, 2, 2],\n",
       "       [2, 1, 1, 2],\n",
       "       [1, 2, 2, 1]], dtype=int8)"
      ]
     },
     "execution_count": 11,
     "metadata": {},
     "output_type": "execute_result"
    }
   ],
   "source": [
    "def follow_consequence(grid, pos, color, full_rows: set, full_cols: set):\n",
    "    \"\"\"Returns exhausted grid or None if invalid\"\"\"\n",
    "    grid = grid.copy()    \n",
    "    full_rows, full_cols = full_rows.copy(), full_cols.copy()\n",
    "\n",
    "    if not valid_action(grid, pos, color):\n",
    "        return None\n",
    "    \n",
    "    grid[pos] = color\n",
    "    solve(grid)  # Exhaust the grid\n",
    "    \n",
    "    return grid, full_rows, full_cols if valid_grid(grid) else None\n",
    "\n",
    "def generate_grid():\n",
    "    new = np.zeros((dim, dim), dtype=np.int8)\n",
    "    free_tiles = [(i, j) for i in range(dim) for j in range(dim)]\n",
    "    full_rows, full_cols = set(), set()\n",
    "\n",
    "    while len(free_tiles) > 0:\n",
    "        indx = np.random.randint(len(free_tiles))\n",
    "        pos = free_tiles.pop(indx)\n",
    "        if new[pos] != 0:\n",
    "            continue\n",
    "\n",
    "        color = np.random.randint(1, 3)\n",
    "        result = follow_consequence(new, pos, color, full_rows, full_cols)\n",
    "        if result is not None:\n",
    "            new, full_rows, full_cols = result\n",
    "        else:\n",
    "            new[pos] = FLIP[color]\n",
    "            solve(new)\n",
    "            assert(valid_grid(new)), \"Invalid grid generated :(\"\n",
    "            # Follow consequences and assert valid grid, because I think this is guaranteed\n",
    "\n",
    "            # # Check if pos filled a row or col - TODO: Test it\n",
    "            # if np.all(new[pos[0]] != 0):\n",
    "            #     full_rows.add(pos[0])\n",
    "            # if np.all(new[:, pos[1]] != 0):\n",
    "            #     full_cols.add(pos[1])\n",
    "    \n",
    "    return new\n",
    "\n",
    "\n",
    "generate_grid()"
   ]
  }
 ],
 "metadata": {
  "kernelspec": {
   "display_name": "Python 3",
   "language": "python",
   "name": "python3"
  },
  "language_info": {
   "codemirror_mode": {
    "name": "ipython",
    "version": 3
   },
   "file_extension": ".py",
   "mimetype": "text/x-python",
   "name": "python",
   "nbconvert_exporter": "python",
   "pygments_lexer": "ipython3",
   "version": "3.10.8"
  },
  "orig_nbformat": 4
 },
 "nbformat": 4,
 "nbformat_minor": 2
}
