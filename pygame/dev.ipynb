{
 "cells": [
  {
   "cell_type": "code",
   "execution_count": 100,
   "metadata": {},
   "outputs": [],
   "source": [
    "import numpy as np\n",
    "A = [[1, 1, 2, 2], [2, 1, 1, 2], [2, 2, 1, 1], [1, 2, 2, 1]]\n",
    "B = np.array([[1, 1, 2, 2], [2, 2, 1, 1], [2, 2, 1, 1], [1, 2, 2, 1]], dtype=np.int8)\n",
    "C = np.array([\n",
    "            [0, 0, 0, 0], \n",
    "            [0, 1, 0, 1], \n",
    "            [0, 0, 2, 0], \n",
    "            [0, 1, 0, 0]], dtype=np.int8)\n",
    "D = np.array([\n",
    "            [1, 1, 0, 0], \n",
    "            [0, 1, 1, 0], \n",
    "            [0, 0, 1, 1], \n",
    "            [1, 0, 0, 1]], dtype=np.int8)\n",
    "E = np.array([  # Unique \n",
    "            [1, 2, 2, 1], \n",
    "            [2, 1, 1, 2], \n",
    "            [2, 1, 0, 0], \n",
    "            [1, 2, 0, 0]], dtype=np.int8)\n"
   ]
  },
  {
   "attachments": {},
   "cell_type": "markdown",
   "metadata": {},
   "source": [
    "## Solver"
   ]
  },
  {
   "cell_type": "code",
   "execution_count": 121,
   "metadata": {},
   "outputs": [
    {
     "data": {
      "text/plain": [
       "array([[0, 0, 0, 0],\n",
       "       [0, 1, 0, 1],\n",
       "       [0, 0, 2, 0],\n",
       "       [0, 1, 0, 0]], dtype=int8)"
      ]
     },
     "execution_count": 121,
     "metadata": {},
     "output_type": "execute_result"
    }
   ],
   "source": [
    "from duko import Duko\n",
    "import numpy as np\n",
    "duko = Duko(render=False, board=D)\n",
    "board = duko.board.astype(np.int8)\n",
    "N = len(board)\n",
    "C"
   ]
  },
  {
   "cell_type": "code",
   "execution_count": 158,
   "metadata": {},
   "outputs": [
    {
     "name": "stdout",
     "output_type": "stream",
     "text": [
      "True\n",
      "False\n",
      "False\n",
      "False\n",
      "False\n",
      "False\n",
      "False\n",
      "False\n",
      "False\n",
      "False\n"
     ]
    }
   ],
   "source": [
    "# one hot encode the board\n",
    "# ONE, TWO = \n",
    "# find indices of 1s and 2s\n",
    "BLUE, RED = np.zeros((2, 4, 4))\n",
    "BLUE[np.where(board == 1)] = RED[np.where(board == 2)] = 1\n",
    "DIGITS = set(range(len(board)))\n",
    "done_cols, done_rows = set(), set()  # Always start empty?\n",
    "BOARD = C.copy()\n",
    "FLIP = np.array([0, 2, 1])\n",
    "\n",
    "def equal_count(grid, done: set):\n",
    "    \"\"\"Checks for equal count of 1s and 2s.\n",
    "    param grid: 2D array\n",
    "    param done: set of rows or cols that are already done\n",
    "    Returns True if any changes are made.\"\"\"\n",
    "    changed = False\n",
    "\n",
    "    for r in (DIGITS - done):\n",
    "        row = grid[r]\n",
    "        if np.sum(row == 1) == N // 2:\n",
    "            grid[r, np.where(row == 0)[0]] = 2\n",
    "            done.add(r)\n",
    "            changed = True\n",
    "\n",
    "        if np.sum(row == 2) == N // 2:\n",
    "            grid[r, np.where(row == 0)[0]] = 1\n",
    "            done.add(r)\n",
    "            changed = True\n",
    "\n",
    "    return changed\n",
    "\n",
    "def subsequent(grid, done: set):\n",
    "    \"\"\"Checks for subsequent 1s and 2s in rows and cols.\n",
    "    Returns True if any changes are made.\"\"\"\n",
    "    changed = False\n",
    "\n",
    "    for r, row in enumerate(grid):\n",
    "        for i in range(len(row)-1):\n",
    "            if row[i] == row[i+1] != 0:\n",
    "                if i < N-2 and not grid[r, i+2]: # if next is empty\n",
    "                    grid[r, i+2] = FLIP[row[i]]\n",
    "                    changed = True\n",
    "\n",
    "                if i > 0 and not grid[r, i-1]: # if prev is empty\n",
    "                    grid[r, i-1] = FLIP[row[i]]\n",
    "                    changed = True\n",
    "\n",
    "    if changed: # TODO: check funcionatliy\n",
    "        done.update(np.where(np.all(board != 0, axis=1))[0])\n",
    "\n",
    "    return changed\n",
    "\n",
    "def unique(grid, done: set):\n",
    "    \"\"\"Checks for unique rows and cols.\n",
    "    Returns True if any changes are made.\"\"\"\n",
    "    changed = False\n",
    "\n",
    "    # Find rows containing exacty two gaps\n",
    "    gapped_rows_indx = np.where(np.sum(grid == 0, axis=1) == 2)[0]  # [2 3]\n",
    "    candidates = grid[gapped_rows_indx]  # [[2 1 0 0], [1 0 0 2]]\n",
    "    keks = grid[list(done)]  # [[2 1 1 2]]\n",
    "\n",
    "    # Compare each candidate with other complete rows\n",
    "    for i, candy in enumerate(candidates):\n",
    "        # Find index of colored tiles\n",
    "        idx = np.where(candy != 0)[0]  # [0 1]\n",
    "        for kek in keks:\n",
    "            if np.array_equal(kek[idx], candy[idx]):\n",
    "                # Replace the two gaps with complementary colors\n",
    "                gaps = np.where(candy == 0)[0]  # [2, 3]\n",
    "                grid[gapped_rows_indx[i], gaps] = FLIP[kek[gaps]]\n",
    "\n",
    "                done.add(gapped_rows_indx[i])\n",
    "                changed = True\n",
    "    \n",
    "    return changed\n",
    "\n",
    "# print(equal_count(BOARD, done_rows))\n",
    "# print(BOARD)\n",
    "# print(done_rows)\n",
    "# print(subsequent(BOARD.T, done_cols))\n",
    "# print(BOARD)\n",
    "# print(done_cols)\n",
    "for i in range(10):\n",
    "    print(equal_count(BOARD, done_rows))\n",
    "# array([[0, 0, 0, 0],\n",
    "#        [2, 1, 2, 1],\n",
    "#        [0, 0, 2, 0],\n",
    "#        [0, 1, 0, 0]], dtype=int8)\n",
    "\n",
    "# array([[0, 2, 1, 0],\n",
    "#        [2, 1, 2, 1],\n",
    "#        [0, 2, 2, 0],\n",
    "#        [0, 1, 1, 0]], dtype=int8)\n"
   ]
  },
  {
   "cell_type": "code",
   "execution_count": 156,
   "metadata": {},
   "outputs": [
    {
     "name": "stdout",
     "output_type": "stream",
     "text": [
      "0\n",
      "1\n",
      "2\n",
      "3\n",
      "4\n",
      "5\n",
      "6\n",
      "7\n",
      "8\n",
      "9\n"
     ]
    }
   ],
   "source": [
    "        pos = (self.SIZE // 2, self.SIZE * 3 // 5)\n",
    "        self.outline_text(congratz, \"Complete!\", pos)\n",
    "        pos = (self.SIZE // 2, self.SIZE * 5 // 8)\n",
    "        self.outline_text(congratz, \"Press space to continue\", pos, self.font_med)\n",
    "\n",
    "    def outline_text(self, SURFACE: pg.Surface, text, pos, \n",
    "                     font=font_big, color=WHITE, ocolor=BLACK, opx=2):\n",
    "        \"\"\"Draw text with outline\"\"\"\n",
    "        surface = font.render(text, True, color).convert_alpha()\n",
    "        w, h = surface.get_width(), font.get_height()\n",
    "\n",
    "        surf_outline = pg.Surface((w + 2 * opx, h + 2 * opx)).convert_alpha()\n",
    "        # surf_outline.fill(self.BLACK)\n",
    "\n",
    "        surf = surf_outline.copy()\n",
    "        surf_outline.blit(font.render(text, True, ocolor).convert_alpha(), (0, 0))\n",
    "\n",
    "        for dx, dy in self._circlepoints(opx):\n",
    "            surf.blit(surf_outline, (dx + opx, dy + opx))\n",
    "\n",
    "        surf.blit(surface, (opx, opx))\n",
    "        offset_pos = (pos[0] - w // 2, pos[1] - h // 2)\n",
    "        SURFACE.blit(surf, offset_pos)"
   ]
  },
  {
   "cell_type": "code",
   "execution_count": null,
   "metadata": {},
   "outputs": [],
   "source": [
    "def equal_count0():\n",
    "    \"\"\"Checks for equal count of 1s and 2s in rows and cols.\n",
    "    Returns True if any changes are made.\"\"\"\n",
    "    changed = False\n",
    "\n",
    "    BLUE_cols = np.sum(BLUE, axis=1)  # Summing over cols [0., 2., 0., 1.]\n",
    "    cols = set(np.where(BLUE_cols == 2)[0]) - done_cols # index of filled # {1}\n",
    "    for c in cols:\n",
    "        done_cols.add(c)\n",
    "\n",
    "        rows = np.where(BLUE[:, c] == 1)[0]  # [1, 3]\n",
    "        left_over = DIGITS - set(rows) # {0, 2}\n",
    "        RED[tuple(left_over), c] = 1\n",
    "        changed = True\n",
    "\n",
    "    \n",
    "    BLUE_rows = np.sum(BLUE, axis=0)\n",
    "    rows = set(np.where(BLUE_rows == 2)[0]) - done_rows\n",
    "    for r in rows:\n",
    "        done_rows.add(r)\n",
    "\n",
    "        cols = np.where(BLUE[r, :] == 1)[0] \n",
    "        left_over = DIGITS - set(cols)\n",
    "        RED[r, tuple(left_over)] = 1\n",
    "        changed = True\n",
    "    \n",
    "    RED_cols = np.sum(RED, axis=0)\n",
    "    cols = set(np.where(RED_cols == 2)[0]) - done_cols # index of filled # {1}\n",
    "    for c in cols:\n",
    "        done_cols.add(c)\n",
    "\n",
    "        rows = np.where(RED[:, c] == 1)[0]  # [1, 3]\n",
    "        left_over = DIGITS - set(rows) # {0, 2}\n",
    "        BLUE[tuple(left_over), c] = 1\n",
    "        changed = True\n",
    "\n",
    "    RED_rows = np.sum(RED, axis=1)\n",
    "    rows = set(np.where(RED_rows == 2)[0]) - done_rows\n",
    "    for r in rows:\n",
    "        done_rows.add(r)\n",
    "\n",
    "        cols = np.where(RED[r, :] == 1)[0] \n",
    "        left_over = DIGITS - set(cols)\n",
    "        BLUE[r, tuple(left_over)] = 1\n",
    "        changed = True\n",
    "\n",
    "    return changed\n"
   ]
  },
  {
   "cell_type": "code",
   "execution_count": 129,
   "metadata": {},
   "outputs": [
    {
     "name": "stderr",
     "output_type": "stream",
     "text": [
      "C:\\Users\\Jason\\AppData\\Local\\Temp\\ipykernel_14244\\1025829497.py:7: DeprecationWarning: elementwise comparison failed; this will raise an error in the future.\n",
      "  np.sum(A == np.array([1, 0]))\n"
     ]
    },
    {
     "data": {
      "text/plain": [
       "0"
      ]
     },
     "execution_count": 129,
     "metadata": {},
     "output_type": "execute_result"
    }
   ],
   "source": [
    "# A = np.array([0, 1, 2, 3])\n",
    "# # Determine number of zeros\n",
    "# A[[1, 3]] = [-1, -3]\n",
    "# A\n",
    "A = np.array([2, 1, 0, 1])\n",
    "# get opposite of A\n",
    "\n",
    "# blue_rows\n",
    "# np.where(board == 1)"
   ]
  },
  {
   "cell_type": "code",
   "execution_count": 20,
   "metadata": {},
   "outputs": [
    {
     "name": "stdout",
     "output_type": "stream",
     "text": [
      "[1 0]\n",
      "[[1 1 2 2]\n",
      " [2 1 1 2]\n",
      " [2 2 1 1]\n",
      " [1 2 2 1]]\n",
      "[[1 1 2 2]\n",
      " [2 2 1 1]\n",
      " [2 2 1 1]\n",
      " [1 2 2 1]]\n"
     ]
    }
   ],
   "source": [
    "# SAVE AND LOAD configirations\n",
    "\n",
    "# save = {str(i) : a for i, a in enumerate(configs)}  # Give them names \n",
    "configs = [[1, 0], A, B]  # Or just use a list\n",
    "np.savez(\"duko_configs.npz\", *configs)  # Save them\n",
    "\n",
    "loaded = np.load(\"duko_configs.npz\")\n",
    "configs = loaded.values()\n",
    "for kek in configs:\n",
    "    print(kek)"
   ]
  },
  {
   "cell_type": "code",
   "execution_count": 6,
   "metadata": {},
   "outputs": [
    {
     "name": "stdout",
     "output_type": "stream",
     "text": [
      "[[ 9 11  9  7]\n",
      " [ 9 10  9  8]\n",
      " [ 9 10  9  8]\n",
      " [10 11  8  7]]\n"
     ]
    }
   ],
   "source": [
    "# load the config from disk\n",
    "config = np.loadtxt(\"duko_config.txt\", dtype=np.int8)"
   ]
  },
  {
   "cell_type": "code",
   "execution_count": 54,
   "metadata": {},
   "outputs": [
    {
     "name": "stdout",
     "output_type": "stream",
     "text": [
      "False\n",
      "False\n",
      "False\n",
      "False\n",
      "False\n",
      "False\n",
      "True\n",
      "False\n",
      "False\n",
      "False\n",
      "False\n",
      "False\n",
      "[[1 1 2 2]\n",
      " [2 2 1 1]\n",
      " [2 2 1 1]\n",
      " [1 2 2 1]]\n"
     ]
    }
   ],
   "source": [
    "dim = A.shape[0]\n",
    "for i in range(dim):\n",
    "    for j in range(i, dim):\n",
    "        if i != j:\n",
    "            # print(i, j)\n",
    "            # print(A[i])\n",
    "            # print(A[j])\n",
    "            # print((A[i] == A[j]))\n",
    "            print((A[i] == A[j]).all())\n",
    "\n",
    "            # print()\n",
    "            print((A[:, i] == A[:, j]).all())\n",
    "            # if np.all(A[i] == A[j]) \\\n",
    "            # or np.all(A[:, i] == A[:, j]):\n",
    "            #     print(\"False\")\n",
    "print(A)"
   ]
  },
  {
   "cell_type": "code",
   "execution_count": 15,
   "metadata": {},
   "outputs": [
    {
     "data": {
      "text/plain": [
       "[(0, 0, 1),\n",
       " (0, 0, 2),\n",
       " (0, 1, 1),\n",
       " (0, 1, 2),\n",
       " (0, 2, 1),\n",
       " (0, 2, 2),\n",
       " (0, 3, 1),\n",
       " (0, 3, 2),\n",
       " (1, 0, 1),\n",
       " (1, 0, 2),\n",
       " (1, 1, 1),\n",
       " (1, 1, 2),\n",
       " (1, 2, 1),\n",
       " (1, 2, 2),\n",
       " (1, 3, 1),\n",
       " (1, 3, 2),\n",
       " (2, 0, 1),\n",
       " (2, 0, 2),\n",
       " (2, 1, 1),\n",
       " (2, 1, 2),\n",
       " (2, 2, 1),\n",
       " (2, 2, 2),\n",
       " (2, 3, 1),\n",
       " (2, 3, 2),\n",
       " (3, 0, 1),\n",
       " (3, 0, 2),\n",
       " (3, 1, 1),\n",
       " (3, 1, 2),\n",
       " (3, 2, 1),\n",
       " (3, 2, 2),\n",
       " (3, 3, 1),\n",
       " (3, 3, 2)]"
      ]
     },
     "execution_count": 15,
     "metadata": {},
     "output_type": "execute_result"
    }
   ],
   "source": [
    "dim = 4\n",
    "[(x, y, a) for x in range(dim) for y in range(dim) for a in range(1, 3)]"
   ]
  },
  {
   "cell_type": "code",
   "execution_count": 13,
   "metadata": {},
   "outputs": [
    {
     "name": "stdout",
     "output_type": "stream",
     "text": [
      "False\n"
     ]
    }
   ],
   "source": [
    "A = np.array([[1, 1, 0, 1], [1, 1, 0, 1], [1, 1, 0, 1], [1, 1, 0, 1]], dtype=np.int8)\n",
    "goal = np.ones(4, dtype=np.int8) * 3\n",
    "row_sum = np.sum(A, axis=1)\n",
    "# CHeck if all entrees in row_sum are equal to goal\n",
    "print((row_sum == goal).all())"
   ]
  }
 ],
 "metadata": {
  "kernelspec": {
   "display_name": "Python 3",
   "language": "python",
   "name": "python3"
  },
  "language_info": {
   "codemirror_mode": {
    "name": "ipython",
    "version": 3
   },
   "file_extension": ".py",
   "mimetype": "text/x-python",
   "name": "python",
   "nbconvert_exporter": "python",
   "pygments_lexer": "ipython3",
   "version": "3.10.8"
  },
  "orig_nbformat": 4
 },
 "nbformat": 4,
 "nbformat_minor": 2
}
