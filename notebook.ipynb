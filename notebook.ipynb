{
 "cells": [
  {
   "cell_type": "code",
   "execution_count": 1,
   "metadata": {},
   "outputs": [],
   "source": [
    "keks = {1 : 'Head', 2 : 'Feet', 4 : 'Legs', 8 : 'Hands', 16 : 'Torso', 32 : 'Neck', 64 : 'Belt', 128 : 'Ring'}"
   ]
  },
  {
   "cell_type": "code",
   "execution_count": 11,
   "metadata": {},
   "outputs": [],
   "source": [
    "class Zombie():\n",
    "    def __init__(self, name, health, attack, defense, speed, inventory):\n",
    "        self.name = name\n",
    "        self.health = health\n",
    "        self.attack = attack\n",
    "        self.defense = defense\n",
    "        self.speed = speed\n",
    "        self.inventory = inventory\n",
    "    \n",
    "    def kill(self):\n",
    "        print(f\"{self.name} was killed\")\n",
    "        return 10"
   ]
  },
  {
   "cell_type": "code",
   "execution_count": 12,
   "metadata": {},
   "outputs": [
    {
     "name": "stdout",
     "output_type": "stream",
     "text": [
      "Eigil was killed\n",
      "Feet\n",
      "Hands\n"
     ]
    }
   ],
   "source": [
    "Eigil = Zombie('Eigil', 100, 10, 10, 10, 0)\n",
    "result = Eigil.kill() # 10\n",
    "\n",
    "for i in keks.keys():\n",
    "    if result & i:\n",
    "        print(keks[i])"
   ]
  },
  {
   "cell_type": "code",
   "execution_count": 8,
   "metadata": {},
   "outputs": [
    {
     "name": "stdout",
     "output_type": "stream",
     "text": [
      "Feet\n",
      "Legs\n",
      "Hands\n"
     ]
    }
   ],
   "source": []
  }
 ],
 "metadata": {
  "kernelspec": {
   "display_name": "Python 3",
   "language": "python",
   "name": "python3"
  },
  "language_info": {
   "codemirror_mode": {
    "name": "ipython",
    "version": 3
   },
   "file_extension": ".py",
   "mimetype": "text/x-python",
   "name": "python",
   "nbconvert_exporter": "python",
   "pygments_lexer": "ipython3",
   "version": "3.10.8"
  },
  "orig_nbformat": 4
 },
 "nbformat": 4,
 "nbformat_minor": 2
}
