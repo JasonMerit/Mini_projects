{
 "cells": [
  {
   "cell_type": "code",
   "execution_count": 7,
   "metadata": {},
   "outputs": [],
   "source": [
    "import networkx as nx\n",
    "import random\n",
    "SIZE = 10\n",
    "DIRECTIONS = [(0, -1), (0, 1), (-1, 0), (1, 0)]  # up, down, left, right"
   ]
  },
  {
   "cell_type": "code",
   "execution_count": 5,
   "metadata": {},
   "outputs": [],
   "source": [
    "G = nx.Graph()\n",
    "G.add_node((0, 0))\n",
    "grid = [[0 for _ in range(SIZE)] for _ in range(SIZE)]\n",
    "# create a stack\n",
    "stack = [(0, 0)]\n",
    "\n",
    "def create_maze(x, y):\n",
    "    grid[y][x] = 1\n",
    "    G.add_node((x, y))\n",
    "\n",
    "    while len(stack) > 0:\n",
    "        x, y = stack.pop(random.randrange(len(stack)))\n",
    "\n",
    "        directions = DIRECTIONS.copy()\n",
    "        random.shuffle(directions)\n",
    "        unvisited = []\n",
    "        for dir in directions:\n",
    "            nx = x + dir[0]\n",
    "            ny = y + dir[1]\n",
    "            if 0 > nx >= SIZE or 0 > ny >= SIZE:\n",
    "                continue\n",
    "            if grid[ny][nx] == 1:\n",
    "                continue\n",
    "            unvisited.append((nx, ny))\n",
    "        \n",
    "        if unvisited:\n",
    "            stack.append((x, y))\n",
    "            nx, ny = unvisited.pop(random.randrange(len(unvisited)))\n",
    "            \n",
    "            G.add_edge((x, y), (nx, ny))\n",
    "            grid[ny][nx] = 1\n",
    "            stack.append((nx, ny))\n",
    "\n",
    "\n"
   ]
  },
  {
   "cell_type": "code",
   "execution_count": 3,
   "metadata": {},
   "outputs": [
    {
     "name": "stdout",
     "output_type": "stream",
     "text": [
      "[(0, 0)]\n"
     ]
    }
   ],
   "source": []
  },
  {
   "cell_type": "code",
   "execution_count": 56,
   "metadata": {},
   "outputs": [],
   "source": [
    "from treelib import Tree\n",
    "from random import shuffle\n",
    "\n",
    "DIRECTIONS = [(0, -1), (0, 1), (-1, 0), (1, 0)]\n",
    "grid = [[0 for x in range(10)] for y in range(10)]\n",
    "tree = Tree()\n",
    "\n",
    "def create_maze():\n",
    "    tree.create_node(\"0,0\", \"0,0\")\n",
    "    visit(0, 0)\n",
    "\n",
    "\n",
    "def visit(x, y):\n",
    "    grid[y][x] = 1\n",
    "    shuffle(DIRECTIONS)\n",
    "    for dir in DIRECTIONS:\n",
    "        nx = x + dir[0]\n",
    "        ny = y + dir[1]\n",
    "        if nx < 0 or nx >= len(grid[0]) or ny < 0 or ny >= len(grid):  # out of bounds\n",
    "            continue\n",
    "        if grid[ny][nx] == 1:  # already visited\n",
    "            continue\n",
    "        \n",
    "        # Create edge between (x, y) and (nx, ny)\n",
    "        tree.create_node(f\"{nx},{ny}\", f\"{nx},{ny}\", parent=f\"{x},{y}\")\n",
    "\n",
    "        visit(nx, ny)\n",
    "\n",
    "create_maze()\n",
    "\n",
    "# traverse the tree\n",
    "# print(tree.show())\n",
    "# print(tree.to_json())\n",
    "# for node in tree.all_nodes_itr():\n",
    "#     print(node)\n",
    "# for lol in tree.expand_tree(tree.get_node(\"0,0\"), mode=Tree.DEPTH):\n",
    "#     print(lol.identifier)\n"
   ]
  },
  {
   "cell_type": "code",
   "execution_count": 59,
   "metadata": {},
   "outputs": [
    {
     "name": "stdout",
     "output_type": "stream",
     "text": [
      "a\n"
     ]
    }
   ],
   "source": [
    "dict = {\"a\" : 1}\n",
    "for d in dict:\n",
    "    print(d)"
   ]
  },
  {
   "cell_type": "code",
   "execution_count": 28,
   "metadata": {},
   "outputs": [
    {
     "name": "stdout",
     "output_type": "stream",
     "text": [
      "{\"0,0\": {\"children\": [{\"1,0\": {\"children\": [{\"1,1\": {\"children\": [\"0,1\", {\"2,1\": {\"children\": [{\"3,1\": {\"children\": [{\"3,2\": {\"children\": [{\"4,2\": {\"children\": [{\"4,1\": {\"children\": [{\"4,0\": {\"children\": [{\"3,0\": {\"children\": [\"2,0\"]}}, {\"5,0\": {\"children\": [{\"6,0\": {\"children\": [{\"6,1\": {\"children\": [{\"5,1\": {\"children\": [{\"5,2\": {\"children\": [{\"5,3\": {\"children\": [{\"6,3\": {\"children\": [{\"7,3\": {\"children\": [{\"7,2\": {\"children\": [\"6,2\", {\"8,2\": {\"children\": [{\"9,2\": {\"children\": [{\"9,3\": {\"children\": [\"8,3\", {\"9,4\": {\"children\": [{\"9,5\": {\"children\": [{\"8,5\": {\"children\": [{\"8,4\": {\"children\": [{\"7,4\": {\"children\": [{\"6,4\": {\"children\": [{\"5,4\": {\"children\": [{\"4,4\": {\"children\": [{\"4,3\": {\"children\": [{\"3,3\": {\"children\": [{\"3,4\": {\"children\": [{\"2,4\": {\"children\": [{\"1,4\": {\"children\": [{\"1,3\": {\"children\": [{\"2,3\": {\"children\": [{\"2,2\": {\"children\": [{\"1,2\": {\"children\": [{\"0,2\": {\"children\": [{\"0,3\": {\"children\": [{\"0,4\": {\"children\": [{\"0,5\": {\"children\": [{\"0,6\": {\"children\": [{\"1,6\": {\"children\": [{\"1,5\": {\"children\": [{\"2,5\": {\"children\": [{\"2,6\": {\"children\": [{\"3,6\": {\"children\": [{\"3,7\": {\"children\": [{\"4,7\": {\"children\": [{\"4,8\": {\"children\": [{\"5,8\": {\"children\": [{\"6,8\": {\"children\": [{\"7,8\": {\"children\": [{\"7,7\": {\"children\": [{\"7,6\": {\"children\": [{\"6,6\": {\"children\": [{\"5,6\": {\"children\": [{\"4,6\": {\"children\": [{\"4,5\": {\"children\": [\"3,5\", {\"5,5\": {\"children\": [{\"6,5\": {\"children\": [\"7,5\"]}}]}}]}}]}}, {\"5,7\": {\"children\": [\"6,7\"]}}]}}]}}, {\"8,6\": {\"children\": [{\"8,7\": {\"children\": [{\"9,7\": {\"children\": [\"9,6\", {\"9,8\": {\"children\": [{\"9,9\": {\"children\": [{\"8,9\": {\"children\": [{\"7,9\": {\"children\": [{\"6,9\": {\"children\": [{\"5,9\": {\"children\": [{\"4,9\": {\"children\": [{\"3,9\": {\"children\": [{\"2,9\": {\"children\": [{\"2,8\": {\"children\": [{\"1,8\": {\"children\": [{\"1,7\": {\"children\": [{\"0,7\": {\"children\": [{\"0,8\": {\"children\": [{\"0,9\": {\"children\": [\"1,9\"]}}]}}]}}, \"2,7\"]}}]}}, \"3,8\"]}}]}}]}}]}}]}}]}}]}}, \"8,8\"]}}]}}]}}]}}]}}]}}]}}]}}]}}]}}]}}]}}]}}]}}]}}]}}]}}]}}]}}]}}]}}]}}]}}]}}]}}]}}]}}]}}]}}]}}]}}]}}]}}]}}]}}]}}]}}]}}]}}]}}]}}]}}]}}]}}]}}]}}]}}]}}]}}]}}, {\"7,1\": {\"children\": [{\"8,1\": {\"children\": [{\"9,1\": {\"children\": [{\"9,0\": {\"children\": [{\"8,0\": {\"children\": [\"7,0\"]}}]}}]}}]}}]}}]}}]}}]}}]}}]}}]}}]}}]}}]}}]}}]}}]}}\n"
     ]
    }
   ],
   "source": [
    "# traverse the json file\n",
    "json = tree.to_json()\n",
    "print(json)"
   ]
  }
 ],
 "metadata": {
  "kernelspec": {
   "display_name": "Python 3",
   "language": "python",
   "name": "python3"
  },
  "language_info": {
   "codemirror_mode": {
    "name": "ipython",
    "version": 3
   },
   "file_extension": ".py",
   "mimetype": "text/x-python",
   "name": "python",
   "nbconvert_exporter": "python",
   "pygments_lexer": "ipython3",
   "version": "3.8.12"
  },
  "orig_nbformat": 4
 },
 "nbformat": 4,
 "nbformat_minor": 2
}
