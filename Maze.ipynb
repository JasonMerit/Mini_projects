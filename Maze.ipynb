{
 "cells": [
  {
   "cell_type": "code",
   "execution_count": 49,
   "metadata": {},
   "outputs": [],
   "source": [
    "import networkx as nx\n",
    "import random\n",
    "SIZE = 3\n",
    "DIRECTIONS = [(0, -1), (0, 1), (-1, 0), (1, 0)]  # up, down, left, right"
   ]
  },
  {
   "cell_type": "code",
   "execution_count": 76,
   "metadata": {},
   "outputs": [
    {
     "name": "stdout",
     "output_type": "stream",
     "text": [
      "current=(2, 2)\n",
      "(2, 1)\n",
      "[(2, 2), (2, 1)]\n",
      "(1, 1)\n",
      "[(2, 2), (2, 1), (1, 1)]\n",
      "(1, 2)\n",
      "[(2, 2), (2, 1), (1, 1), (1, 2)]\n",
      "(1, 1)\n",
      "[(2, 2), (2, 1)]\n",
      "(1, 1)\n",
      "[(2, 2), (2, 1), (1, 1)]\n",
      "(1, 2)\n",
      "[(2, 2), (2, 1), (1, 1), (1, 2)]\n",
      "(0, 2)\n",
      "[(2, 2), (2, 1), (1, 1), (1, 2), (0, 2)]\n",
      "(0, 1)\n",
      "[(2, 2), (2, 1), (1, 1), (1, 2), (0, 2), (0, 1)]\n",
      "(1, 1)\n",
      "[(2, 2), (2, 1)]\n",
      "(2, 0)\n",
      "[(2, 2), (2, 1), (2, 0)]\n",
      "(1, 0)\n",
      "[(2, 2), (2, 1), (2, 0), (1, 0)]\n",
      "(0, 0)\n",
      "[(2, 2), (2, 1), (2, 0), (1, 0), (0, 0)]\n",
      "(0, 1)\n",
      "[(2, 2), (2, 1), (2, 0), (1, 0), (0, 0), (0, 1)]\n",
      "(0, 0)\n",
      "[(2, 2), (2, 1), (2, 0), (1, 0)]\n",
      "(1, 1)\n",
      "[(2, 2), (2, 1), (2, 0), (1, 0), (1, 1)]\n",
      "(1, 0)\n",
      "[(2, 2), (2, 1), (2, 0)]\n",
      "(2, 1)\n",
      "[(2, 2)]\n",
      "(1, 2)\n",
      "[(2, 2), (1, 2)]\n",
      "(2, 2)\n",
      "[(2, 2), (1, 2)]\n"
     ]
    }
   ],
   "source": [
    "\"\"\"Return Wilson algorithm maze configuration.\"\"\"\n",
    "class Maze:\n",
    "    def __init__(self, size=SIZE):\n",
    "            maze_cells = self._create_maze_cells()\n",
    "            unvisited = {cell for row in maze_cells for cell in row}\n",
    "            starting_cell = random.choice(list(unvisited))\n",
    "            unvisited.remove(starting_cell)\n",
    "            visited = {starting_cell}\n",
    "            path = [random.choice(list(unvisited))]\n",
    "            unvisited.remove(path[-1])\n",
    "            modified_cells = []\n",
    "            while unvisited:\n",
    "                current_cell = path[-1]\n",
    "                new_cell = random.choice([neighbor for neighbor in current_cell.neighbors(maze_cells) if neighbor])\n",
    "                if new_cell in path and new_cell not in visited:\n",
    "                    to_erase_from = path.index(new_cell)\n",
    "                    del path[to_erase_from + 1:]\n",
    "                if new_cell in visited:\n",
    "                    for cell in path:\n",
    "                        visited.add(cell)\n",
    "                        if cell in unvisited:\n",
    "                            unvisited.remove(cell)\n",
    "                    path.append(new_cell)\n",
    "                    for index in range(len(path) - 1):\n",
    "                        path[index].link(path[index + 1], maze_cells)\n",
    "                        modified_cells.append((path[index], path[index + 1]))\n",
    "                    path.clear()\n",
    "                    if unvisited:\n",
    "                        path.append(random.choice(list(unvisited)))\n",
    "                if new_cell not in path and new_cell not in visited:\n",
    "                    path.append(new_cell)\n",
    "            dead_ends = self._get_dead_ends(maze_cells)\n",
    "            return modified_cells, dead_ends"
   ]
  },
  {
   "cell_type": "code",
   "execution_count": 67,
   "metadata": {},
   "outputs": [
    {
     "data": {
      "text/plain": [
       "(1, 1)"
      ]
     },
     "execution_count": 67,
     "metadata": {},
     "output_type": "execute_result"
    }
   ],
   "source": [
    "coords = [[set([y * SIZE + x]) for x in range(SIZE)] for y in range(SIZE)]\n",
    "sets = [set([(x, y)]) for x in range(SIZE) for y in range(SIZE)]\n",
    "verts = [(x, y) for y in range(SIZE-1) for x in range(SIZE-1)]\n",
    "hors = [(x, y) for x in range(SIZE-1) for y in range(SIZE-1)]\n",
    "\n",
    "random.seed(42)\n",
    "if random.randint(0, 1):\n",
    "    facing = \"vert\"\n",
    "    wall = verts.pop(len(verts)-1)\n",
    "else:\n",
    "    facing = \"hors\"\n",
    "    wall = hors.pop(len(hors)-1)\n",
    "\n",
    "    # Determine if wall splits distinct sets\n",
    "    \n",
    "\n",
    "coords\n",
    "wall\n"
   ]
  },
  {
   "cell_type": "code",
   "execution_count": 15,
   "metadata": {},
   "outputs": [],
   "source": [
    "\n",
    "path = [(19, 19), (18, 19), (17, 19), (16, 19), (15, 19), (14, 19), (13, 19), (12, 19), (12, 18), (11, 18), (11, 17), (10, 17), (9, 17), (9, 18), (9, 19), (8, 19), (7, 19), (6, 19), (5, 19), (5, 18), (4, 18), (4, 17), (5, 17), (5, 16), (4, 16), (3, 16), (3, 17), (2, 17), (1, 17), (1, 16), (0, 16), (0, 15), (1, 15), (1, 14), (0, 14), (0, 13), (1, 13), (1, 12), (0, 12), (0, 11), (1, 11), (2, 11), (2, 12), (2, 13), (3, 13), (3, 12), (4, 12), (4, 13), (5, 13), (5, 12), (6, 12), (6, 13), (7, 13), (7, 14), (8, 14), (8, 13), (9, 13), (9, 14), (10, 14), (11, 14), (11, 13), (11, 12), (10, 12), (9, 12), (9, 11), (10, 11), (11, 11), (12, 11), (12, 12), (12, 13), (13, 13), (13, 14), (13, 15), (13, 16), (13, 17), (14, \n",
    "17), (14, 18), (15, 18), (15, 17), (16, 17), (17, 17), (17, 16), (17, 15), (16, 15), (15, 15), (15, 16), (14, 16), (14, 15), (14, 14), (15, 14), (16, 14), (16, 13), (15, 13), (14, 13), (14, 12), (13, 12), (13, 11), (14, 11), (15, 11), (15, 10), (15, 9), (15, 8), (15, 7), (15, 6), (14, 6), (14, 5), (15, 5), (15, 4), (16, 4), (16, 3), (17, 3), (17, 2), (17, 1), (17, 0), (16, 0), (16, 1), (16, 2), (15, 2), (15, 1), (15, 0), (14, 0), (13, 0), (12, 0), (11, 0), (10, 0), (10, 1), (10, 2), (11, 2), (12, 2), (12, 1), (13, 1), (13, 2), (14, 2), (14, 3), (13, 3), (12, 3), (11, 3), (10, 3), (9, 3), (9, 2), (9, 1), (9, 0), (8, 0), (8, 1), (8, 2), (7, 2), (7, 3), (8, 3), (8, 4), (9, 4), (10, 4), (11, 4), (11, 5), (12, 5), (12, 4), (13, 4), (13, 5), (13, 6), (12, 6), (12, 7), (12, 8), (13, 8), (13, 9), (13, 10), (12, 10), (12, 9), (11, 9), (10, 9), (10, 10), (9, 10), (8, 10), (8, 9), (8, 8), (7, 8), (6, 8), (6, 7), (7, 7), (8, 7), (8, 6), (7, 6), (6, 6), (5, 6), (5, 7), (4, 7), (3, 7), (3, 8), (2, 8), (2, 7), (2, 6), (3, 6), (4, 6), (4, 5), (5, 5), (5, 4), (4, 4), (3, 4), (3, 3), (3, 2), (4, 2), (4, 3), (5, 3), (5, 2), (6, 2), (6, 1), (6, 0), (5, 0), (5, 1), (4, 1), (4, 0), (3, 0), (2, 0), (2, 1), (2, 2), (2, 3), (2, 4), (2, 5), (1, \n",
    "5), (1, 4), (1, 3), (1, 2), (1, 1), (0, 1), (0, 0)]"
   ]
  },
  {
   "cell_type": "code",
   "execution_count": 27,
   "metadata": {},
   "outputs": [
    {
     "name": "stdout",
     "output_type": "stream",
     "text": [
      "(14, 19) -> (13, 19)\n",
      "left\n",
      "\n",
      "(13, 19) -> (12, 19)\n",
      "left\n",
      "\n",
      "(12, 19) -> (12, 18)\n",
      "up\n",
      "\n",
      "(12, 18) -> (11, 18)\n",
      "left\n",
      "\n",
      "(11, 18) -> (11, 17)\n",
      "up\n",
      "\n"
     ]
    }
   ],
   "source": [
    "first = 5\n",
    "current = path[first]\n",
    "for next in path[first+1:11]:\n",
    "    print(current, \"->\", next)\n",
    "    if next[0] == current[0]:\n",
    "        print('vertical')\n",
    "    else:\n",
    "        print('horizontal')\n",
    "    current = next\n",
    "    print()\n",
    "    "
   ]
  },
  {
   "cell_type": "code",
   "execution_count": 8,
   "metadata": {},
   "outputs": [],
   "source": [
    "G = nx.Graph()\n",
    "G.add_node((0, 0))\n",
    "grid = [[0 for _ in range(SIZE)] for _ in range(SIZE)]\n",
    "# create a stack\n",
    "stack = [(0, 0)]\n",
    "\n",
    "def create_maze(x, y):\n",
    "    grid[y][x] = 1\n",
    "    G.add_node((x, y))\n",
    "\n",
    "    while len(stack) > 0:\n",
    "        x, y = stack.pop(random.randrange(len(stack)))\n",
    "\n",
    "        directions = DIRECTIONS.copy()\n",
    "        random.shuffle(directions)\n",
    "        unvisited = []\n",
    "        for dir in directions:\n",
    "            nx = x + dir[0]\n",
    "            ny = y + dir[1]\n",
    "            if 0 > nx >= SIZE or 0 > ny >= SIZE:\n",
    "                continue\n",
    "            if grid[ny][nx] == 1:\n",
    "                continue\n",
    "            unvisited.append((nx, ny))\n",
    "        \n",
    "        if unvisited:\n",
    "            stack.append((x, y))\n",
    "            nx, ny = unvisited.pop(random.randrange(len(unvisited)))\n",
    "            \n",
    "            G.add_edge((x, y), (nx, ny))\n",
    "            grid[ny][nx] = 1\n",
    "            stack.append((nx, ny))\n",
    "\n",
    "create_maze(0, 0)\n",
    "\n"
   ]
  },
  {
   "cell_type": "code",
   "execution_count": 12,
   "metadata": {},
   "outputs": [
    {
     "data": {
      "image/png": "[encoded data removed]",
      "text/plain": [
       "<Figure size 432x288 with 1 Axes>"
      ]
     },
     "metadata": {},
     "output_type": "display_data"
    }
   ],
   "source": [
    "nx.draw_networkx(G, with_labels=False)"
   ]
  },
  {
   "cell_type": "code",
   "execution_count": 56,
   "metadata": {},
   "outputs": [],
   "source": [
    "from treelib import Tree\n",
    "from random import shuffle\n",
    "\n",
    "DIRECTIONS = [(0, -1), (0, 1), (-1, 0), (1, 0)]\n",
    "grid = [[0 for x in range(10)] for y in range(10)]\n",
    "tree = Tree()\n",
    "\n",
    "def create_maze():\n",
    "    tree.create_node(\"0,0\", \"0,0\")\n",
    "    visit(0, 0)\n",
    "\n",
    "\n",
    "def visit(x, y):\n",
    "    grid[y][x] = 1\n",
    "    shuffle(DIRECTIONS)\n",
    "    for dir in DIRECTIONS:\n",
    "        nx = x + dir[0]\n",
    "        ny = y + dir[1]\n",
    "        if nx < 0 or nx >= len(grid[0]) or ny < 0 or ny >= len(grid):  # out of bounds\n",
    "            continue\n",
    "        if grid[ny][nx] == 1:  # already visited\n",
    "            continue\n",
    "        \n",
    "        # Create edge between (x, y) and (nx, ny)\n",
    "        tree.create_node(f\"{nx},{ny}\", f\"{nx},{ny}\", parent=f\"{x},{y}\")\n",
    "\n",
    "        visit(nx, ny)\n",
    "\n",
    "create_maze()\n",
    "\n",
    "# traverse the tree\n",
    "# print(tree.show())\n",
    "# print(tree.to_json())\n",
    "# for node in tree.all_nodes_itr():\n",
    "#     print(node)\n",
    "# for lol in tree.expand_tree(tree.get_node(\"0,0\"), mode=Tree.DEPTH):\n",
    "#     print(lol.identifier)\n"
   ]
  },
  {
   "cell_type": "code",
   "execution_count": 59,
   "metadata": {},
   "outputs": [
    {
     "name": "stdout",
     "output_type": "stream",
     "text": [
      "a\n"
     ]
    }
   ],
   "source": [
    "dict = {\"a\" : 1}\n",
    "for d in dict:\n",
    "    print(d)"
   ]
  },
  {
   "cell_type": "code",
   "execution_count": 28,
   "metadata": {},
   "outputs": [
    {
     "name": "stdout",
     "output_type": "stream",
     "text": [
      "{\"0,0\": {\"children\": [{\"1,0\": {\"children\": [{\"1,1\": {\"children\": [\"0,1\", {\"2,1\": {\"children\": [{\"3,1\": {\"children\": [{\"3,2\": {\"children\": [{\"4,2\": {\"children\": [{\"4,1\": {\"children\": [{\"4,0\": {\"children\": [{\"3,0\": {\"children\": [\"2,0\"]}}, {\"5,0\": {\"children\": [{\"6,0\": {\"children\": [{\"6,1\": {\"children\": [{\"5,1\": {\"children\": [{\"5,2\": {\"children\": [{\"5,3\": {\"children\": [{\"6,3\": {\"children\": [{\"7,3\": {\"children\": [{\"7,2\": {\"children\": [\"6,2\", {\"8,2\": {\"children\": [{\"9,2\": {\"children\": [{\"9,3\": {\"children\": [\"8,3\", {\"9,4\": {\"children\": [{\"9,5\": {\"children\": [{\"8,5\": {\"children\": [{\"8,4\": {\"children\": [{\"7,4\": {\"children\": [{\"6,4\": {\"children\": [{\"5,4\": {\"children\": [{\"4,4\": {\"children\": [{\"4,3\": {\"children\": [{\"3,3\": {\"children\": [{\"3,4\": {\"children\": [{\"2,4\": {\"children\": [{\"1,4\": {\"children\": [{\"1,3\": {\"children\": [{\"2,3\": {\"children\": [{\"2,2\": {\"children\": [{\"1,2\": {\"children\": [{\"0,2\": {\"children\": [{\"0,3\": {\"children\": [{\"0,4\": {\"children\": [{\"0,5\": {\"children\": [{\"0,6\": {\"children\": [{\"1,6\": {\"children\": [{\"1,5\": {\"children\": [{\"2,5\": {\"children\": [{\"2,6\": {\"children\": [{\"3,6\": {\"children\": [{\"3,7\": {\"children\": [{\"4,7\": {\"children\": [{\"4,8\": {\"children\": [{\"5,8\": {\"children\": [{\"6,8\": {\"children\": [{\"7,8\": {\"children\": [{\"7,7\": {\"children\": [{\"7,6\": {\"children\": [{\"6,6\": {\"children\": [{\"5,6\": {\"children\": [{\"4,6\": {\"children\": [{\"4,5\": {\"children\": [\"3,5\", {\"5,5\": {\"children\": [{\"6,5\": {\"children\": [\"7,5\"]}}]}}]}}]}}, {\"5,7\": {\"children\": [\"6,7\"]}}]}}]}}, {\"8,6\": {\"children\": [{\"8,7\": {\"children\": [{\"9,7\": {\"children\": [\"9,6\", {\"9,8\": {\"children\": [{\"9,9\": {\"children\": [{\"8,9\": {\"children\": [{\"7,9\": {\"children\": [{\"6,9\": {\"children\": [{\"5,9\": {\"children\": [{\"4,9\": {\"children\": [{\"3,9\": {\"children\": [{\"2,9\": {\"children\": [{\"2,8\": {\"children\": [{\"1,8\": {\"children\": [{\"1,7\": {\"children\": [{\"0,7\": {\"children\": [{\"0,8\": {\"children\": [{\"0,9\": {\"children\": [\"1,9\"]}}]}}]}}, \"2,7\"]}}]}}, \"3,8\"]}}]}}]}}]}}]}}]}}]}}, \"8,8\"]}}]}}]}}]}}]}}]}}]}}]}}]}}]}}]}}]}}]}}]}}]}}]}}]}}]}}]}}]}}]}}]}}]}}]}}]}}]}}]}}]}}]}}]}}]}}]}}]}}]}}]}}]}}]}}]}}]}}]}}]}}]}}]}}]}}]}}]}}]}}]}}]}}]}}, {\"7,1\": {\"children\": [{\"8,1\": {\"children\": [{\"9,1\": {\"children\": [{\"9,0\": {\"children\": [{\"8,0\": {\"children\": [\"7,0\"]}}]}}]}}]}}]}}]}}]}}]}}]}}]}}]}}]}}]}}]}}]}}]}}]}}\n"
     ]
    }
   ],
   "source": [
    "# traverse the json file\n",
    "json = tree.to_json()\n",
    "print(json)"
   ]
  }
 ],
 "metadata": {
  "kernelspec": {
   "display_name": "Python 3",
   "language": "python",
   "name": "python3"
  },
  "language_info": {
   "codemirror_mode": {
    "name": "ipython",
    "version": 3
   },
   "file_extension": ".py",
   "mimetype": "text/x-python",
   "name": "python",
   "nbconvert_exporter": "python",
   "pygments_lexer": "ipython3",
   "version": "3.8.12"
  },
  "orig_nbformat": 4
 },
 "nbformat": 4,
 "nbformat_minor": 2
}
