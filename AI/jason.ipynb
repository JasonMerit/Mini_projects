{
 "cells": [
  {
   "cell_type": "code",
   "execution_count": 1,
   "metadata": {},
   "outputs": [],
   "source": [
    "P1 = 'If two groups are equal, then they should have equal rights'\n",
    "P2 = 'Men are physically stronger than women'\n",
    "P3 = 'From P2, men are unequal to women'\n",
    "\n",
    "Conclusion = 'Men and women should not necessarily have the same rights'"
   ]
  },
  {
   "attachments": {},
   "cell_type": "markdown",
   "metadata": {},
   "source": [
    "# Disjunctive normal form (OR and ANDs)"
   ]
  },
  {
   "cell_type": "code",
   "execution_count": 1,
   "metadata": {},
   "outputs": [],
   "source": [
    "# Import libraries\n",
    "import sys\n",
    "sys.path.insert(0, 'aima-python')\n",
    "from utils import *\n",
    "from logic import *"
   ]
  },
  {
   "cell_type": "code",
   "execution_count": 5,
   "metadata": {},
   "outputs": [
    {
     "data": {
      "text/plain": [
       "(~(P & Q) ==> (~P | ~Q))"
      ]
     },
     "execution_count": 5,
     "metadata": {},
     "output_type": "execute_result"
    }
   ],
   "source": [
    "(x, y, P, Q, f) = symbols('x, y, P, Q, f')  \n",
    "expr('~(P & Q)  ==>  (~P | ~Q)')"
   ]
  },
  {
   "cell_type": "code",
   "execution_count": 9,
   "metadata": {},
   "outputs": [],
   "source": [
    "P1 = 'All men are mortal'\n",
    "P2 = 'Socratese is a man'\n",
    "Conclusion = 'Socratese is mortal'"
   ]
  },
  {
   "cell_type": "code",
   "execution_count": 24,
   "metadata": {},
   "outputs": [
    {
     "data": {
      "text/plain": [
       "(((P1 ==> P2) & (P2 ==> C)) ==> (P1 ==> C))"
      ]
     },
     "execution_count": 24,
     "metadata": {},
     "output_type": "execute_result"
    }
   ],
   "source": [
    "(P, Q, R) = symbols('P1, P2, C')\n",
    "argument = Expr('==>', Expr('&', Expr('==>', P, Q), Expr('==>', Q, R)), Expr('==>', P, R))\n",
    "argument"
   ]
  },
  {
   "cell_type": "code",
   "execution_count": 6,
   "metadata": {},
   "outputs": [
    {
     "name": "stdout",
     "output_type": "stream",
     "text": [
      "()\n"
     ]
    },
    {
     "ename": "AttributeError",
     "evalue": "'Expr' object has no attribute 'to_cnf'",
     "output_type": "error",
     "traceback": [
      "\u001b[1;31m---------------------------------------------------------------------------\u001b[0m",
      "\u001b[1;31mAttributeError\u001b[0m                            Traceback (most recent call last)",
      "Cell \u001b[1;32mIn[6], line 5\u001b[0m\n\u001b[0;32m      3\u001b[0m \u001b[39mprint\u001b[39m(k)\n\u001b[0;32m      4\u001b[0m \u001b[39m# Convert to CNF\u001b[39;00m\n\u001b[1;32m----> 5\u001b[0m k\u001b[39m.\u001b[39;49mto_cnf()\n\u001b[0;32m      7\u001b[0m \u001b[39mprint\u001b[39m(k\u001b[39m.\u001b[39mto_cnf())\n",
      "\u001b[1;31mAttributeError\u001b[0m: 'Expr' object has no attribute 'to_cnf'"
     ]
    }
   ],
   "source": [
    "# Write out a propositional logic statement\n",
    "k = Expr('P ==> Q')\n",
    "print(k)\n",
    "# Convert to CNF\n",
    "k.to_cnf()\n",
    "\n",
    "print(k.to_cnf())\n",
    "\n"
   ]
  }
 ],
 "metadata": {
  "kernelspec": {
   "display_name": "base",
   "language": "python",
   "name": "python3"
  },
  "language_info": {
   "codemirror_mode": {
    "name": "ipython",
    "version": 3
   },
   "file_extension": ".py",
   "mimetype": "text/x-python",
   "name": "python",
   "nbconvert_exporter": "python",
   "pygments_lexer": "ipython3",
   "version": "3.10.8"
  },
  "orig_nbformat": 4
 },
 "nbformat": 4,
 "nbformat_minor": 2
}
