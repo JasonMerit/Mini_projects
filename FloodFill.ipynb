{
 "cells": [
  {
   "cell_type": "code",
   "execution_count": 8,
   "metadata": {},
   "outputs": [],
   "source": [
    "from treelib import Tree\n",
    "from random import shuffle"
   ]
  },
  {
   "cell_type": "code",
   "execution_count": 10,
   "metadata": {},
   "outputs": [],
   "source": [
    "DIRECTIONS = [(0, -1), (0, 1), (-1, 0), (1, 0)]\n",
    "grid = [[0 for x in range(10)] for y in range(10)]\n",
    "tree = Tree()\n",
    "\n",
    "def create_maze():\n",
    "    tree.create_node((0,0), (0,0))\n",
    "    visit(0, 0)\n",
    "\n",
    "\n",
    "def visit(x, y):\n",
    "    grid[y][x] = 1\n",
    "    shuffle(DIRECTIONS)\n",
    "    for dir in DIRECTIONS:\n",
    "        nx = x + dir[0]\n",
    "        ny = y + dir[1]\n",
    "        if nx < 0 or nx >= len(grid[0]) or ny < 0 or ny >= len(grid):  # out of bounds\n",
    "            continue\n",
    "        if grid[ny][nx] == 1:  # already visited\n",
    "            continue\n",
    "        \n",
    "        # Create edge between (x, y) and (nx, ny)\n",
    "        tree.create_node((nx, ny), (nx, ny), parent=(x, y))\n",
    "\n",
    "        visit(nx, ny)\n",
    "\n",
    "create_maze()\n"
   ]
  }
 ],
 "metadata": {
  "kernelspec": {
   "display_name": "Python 3",
   "language": "python",
   "name": "python3"
  },
  "language_info": {
   "codemirror_mode": {
    "name": "ipython",
    "version": 3
   },
   "file_extension": ".py",
   "mimetype": "text/x-python",
   "name": "python",
   "nbconvert_exporter": "python",
   "pygments_lexer": "ipython3",
   "version": "3.8.12"
  },
  "orig_nbformat": 4
 },
 "nbformat": 4,
 "nbformat_minor": 2
}
